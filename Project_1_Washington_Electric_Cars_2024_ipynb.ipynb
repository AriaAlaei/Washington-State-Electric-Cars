{
  "nbformat": 4,
  "nbformat_minor": 0,
  "metadata": {
    "colab": {
      "provenance": [],
      "toc_visible": true,
      "include_colab_link": true
    },
    "kernelspec": {
      "name": "python3",
      "display_name": "Python 3"
    },
    "language_info": {
      "name": "python"
    }
  },
  "cells": [
    {
      "cell_type": "markdown",
      "metadata": {
        "id": "view-in-github",
        "colab_type": "text"
      },
      "source": [
        "<a href=\"https://colab.research.google.com/github/AriaAlaei/Washington-State-Electric-Cars/blob/main/Project_1_Washington_Electric_Cars_2024_ipynb.ipynb\" target=\"_parent\"><img src=\"https://colab.research.google.com/assets/colab-badge.svg\" alt=\"Open In Colab\"/></a>"
      ]
    },
    {
      "cell_type": "code",
      "source": [
        "import requests\n",
        "import base64\n",
        "from IPython.display import HTML\n",
        "\n",
        "\n",
        "# Constants\n",
        "# Updated Google Drive direct link for the new photo\n",
        "IMAGE_URL = \"https://drive.google.com/uc?export=view&id=1Gdhna4Q0q7sfjl8s2X6Aaawgcl6hyUGm\"\n",
        "\n",
        "def download_image_as_base64(url):\n",
        "    \"\"\"Downloads an image from the given URL and encodes it as a base64 string.\"\"\"\n",
        "    try:\n",
        "        response = requests.get(url, timeout=10)\n",
        "        response.raise_for_status()  # Raise an error for HTTP errors\n",
        "        return base64.b64encode(response.content).decode()\n",
        "    except requests.exceptions.RequestException as e:\n",
        "        print(f\"Error downloading image: {e}\")\n",
        "        return None\n",
        "\n",
        "# Fetch the image and encode as base64\n",
        "image_base64 = download_image_as_base64(IMAGE_URL)\n",
        "\n",
        "if image_base64:\n",
        "    # HTML Template\n",
        "    html_code = f\"\"\"\n",
        "    <!DOCTYPE html>\n",
        "    <html lang=\"en\">\n",
        "    <head>\n",
        "        <meta charset=\"UTF-8\">\n",
        "        <meta name=\"viewport\" content=\"width=device-width, initial-scale=1.0\">\n",
        "        <title>Portfolio Header</title>\n",
        "        <!-- Include Font Awesome -->\n",
        "        <link rel=\"stylesheet\" href=\"https://cdnjs.cloudflare.com/ajax/libs/font-awesome/6.0.0-beta3/css/all.min.css\">\n",
        "        <style>\n",
        "            body {{\n",
        "                font-family: Arial, sans-serif;\n",
        "                margin: 0;\n",
        "                padding: 0;\n",
        "            }}\n",
        "            .header {{\n",
        "                display: flex;\n",
        "                align-items: flex-start;\n",
        "                padding: 20px;\n",
        "                background-color: #f4f4f4;\n",
        "                border-bottom: 2px solid #ccc;\n",
        "            }}\n",
        "            .header img {{\n",
        "                border-radius: 50%;\n",
        "                width: 100px;\n",
        "                height: 100px;\n",
        "                object-fit: cover;\n",
        "                margin-right: 20px;\n",
        "                box-shadow: 0 0 20px #86e3dd;\n",
        "            }}\n",
        "            .header .text-container {{\n",
        "                display: flex;\n",
        "                flex-direction: column;\n",
        "            }}\n",
        "            .header h1 {{\n",
        "                margin: 0;\n",
        "                font-size: 2em;\n",
        "            }}\n",
        "            .header p {{\n",
        "                margin: 5px 0 0 0;\n",
        "                font-size: 1em;\n",
        "                color: #666;\n",
        "            }}\n",
        "            .header .social-icons {{\n",
        "                margin-top: 10px;\n",
        "            }}\n",
        "            .header .social-icons a {{\n",
        "                margin-right: 10px;\n",
        "                color: #666;\n",
        "                text-decoration: none;\n",
        "                font-size: 1.5em;\n",
        "            }}\n",
        "            .header .social-icons a:hover {{\n",
        "                color: #000;\n",
        "            }}\n",
        "        </style>\n",
        "    </head>\n",
        "    <body>\n",
        "        <header class=\"header\">\n",
        "            <img src=\"data:image/jpeg;base64,{image_base64}\" alt=\"Profile Picture\">\n",
        "            <div class=\"text-container\">\n",
        "                <h1>Washington State Electric Car Demographic</h1>\n",
        "                <p> :) </p>\n",
        "                <p>#soft_skills #sql #python #tableau</p>\n",
        "                &nbsp;\n",
        "                <p>Aria Alaei</p>\n",
        "                <div class=\"social-icons\">\n",
        "                    <a href=\"https://www.youtube.com/@AriaAlaei\" target=\"_blank\"><i class=\"fab fa-youtube\"></i></a>\n",
        "                    <a href=\"https://www.linkedin.com/in/ariaalaei/\" target=\"_blank\"><i class=\"fab fa-linkedin\"></i></a>\n",
        "                    <a href=\"mailto:info@ariaalaei.com\"><i class=\"fas fa-envelope\"></i></a>\n",
        "                </div>\n",
        "            </div>\n",
        "        </header>\n",
        "    </body>\n",
        "    </html>\n",
        "    \"\"\"\n",
        "    # Display the HTML\n",
        "    display(HTML(html_code))\n",
        "else:\n",
        "    print(\"Failed to fetch the image. HTML not displayed.\")\n",
        "\n"
      ],
      "metadata": {
        "colab": {
          "base_uri": "https://localhost:8080/",
          "height": 197
        },
        "id": "LjS6tVB7uVab",
        "outputId": "2af34cb4-0718-4692-d24d-049da3948477"
      },
      "execution_count": null,
      "outputs": [
        {
          "output_type": "display_data",
          "data": {
            "text/plain": [
              "<IPython.core.display.HTML object>"
            ],
            "text/html": [
              "\n",
              "    <!DOCTYPE html>\n",
              "    <html lang=\"en\">\n",
              "    <head>\n",
              "        <meta charset=\"UTF-8\">\n",
              "        <meta name=\"viewport\" content=\"width=device-width, initial-scale=1.0\">\n",
              "        <title>Portfolio Header</title>\n",
              "        <!-- Include Font Awesome -->\n",
              "        <link rel=\"stylesheet\" href=\"https://cdnjs.cloudflare.com/ajax/libs/font-awesome/6.0.0-beta3/css/all.min.css\">\n",
              "        <style>\n",
              "            body {\n",
              "                font-family: Arial, sans-serif;\n",
              "                margin: 0;\n",
              "                padding: 0;\n",
              "            }\n",
              "            .header {\n",
              "                display: flex;\n",
              "                align-items: flex-start;\n",
              "                padding: 20px;\n",
              "                background-color: #f4f4f4;\n",
              "                border-bottom: 2px solid #ccc;\n",
              "            }\n",
              "            .header img {\n",
              "                border-radius: 50%;\n",
              "                width: 100px;\n",
              "                height: 100px;\n",
              "                object-fit: cover;\n",
              "                margin-right: 20px;\n",
              "                box-shadow: 0 0 20px #86e3dd;\n",
              "            }\n",
              "            .header .text-container {\n",
              "                display: flex;\n",
              "                flex-direction: column;\n",
              "            }\n",
              "            .header h1 {\n",
              "                margin: 0;\n",
              "                font-size: 2em;\n",
              "            }\n",
              "            .header p {\n",
              "                margin: 5px 0 0 0;\n",
              "                font-size: 1em;\n",
              "                color: #666;\n",
              "            }\n",
              "            .header .social-icons {\n",
              "                margin-top: 10px;\n",
              "            }\n",
              "            .header .social-icons a {\n",
              "                margin-right: 10px;\n",
              "                color: #666;\n",
              "                text-decoration: none;\n",
              "                font-size: 1.5em;\n",
              "            }\n",
              "            .header .social-icons a:hover {\n",
              "                color: #000;\n",
              "            }\n",
              "        </style>\n",
              "    </head>\n",
              "    <body>\n",
              "        <header class=\"header\">\n",
              "            <img src=\"data:image/jpeg;base64,/9j/4QA1RXhpZgAATU0AKgAAAAgAAYKYAAIAAAATAAAAGgAAAABQdWdldCBTb3VuZCBFbmVyZ3kA/+EAAv/bAIQABQMEBAQDBQQEBAUFBQYHDAgHBwcHDwsLCQwRDxISEQ8RERMWHBcTFBoVEREYIRgaHR0fHx8TFyIkIh4kHB4fHgEFBQUHBgcOCAgOHhQRFB4eHh4eHh4eHh4eHh4eHh4eHh4eHh4eHh4eHh4eHh4eHh4eHh4eHh4eHh4eHh4eHh4e/8IAEQgB1wLEAwEiAAIRAQMRAf/EADYAAAEFAQEBAQAAAAAAAAAAAAIAAQMEBQYHCAkBAAMBAQEBAQAAAAAAAAAAAAABAgMEBQYH/9oADAMBAAIQAxAAAAD1eRH7fkpOlTO6BndDZEhi5MIXJMZO6Bd0JndAzpxsncGTpjO6QzugZ3QM6cYknBk7gydwZOkJO7Yu6QyJAyJALu4MiSYokDIkAos8PP8AkeT9I+S97mfILFfxe1AcUg1Tq7gbVjpsbHR0ZOHawtKFlmK9BQRG9zVuVrjMrTztWpqQWq7Lebq5bVondrMTKl7eTv8ApPxwo3TByQxRoBROAo0wEaAHJxA5IBRuONycQOaGDkgFyQCicBROAOTjBySBRoBRoBROAokDIkAuSTFyQCjQCicAckgXJAPzN6dwfl93VeOdp5H8d7qZwhNWevqB0VjpsdFpX5OTaaHVqUXaulTpW6ujRtTtKzVO7WuNY+tla7VSvZgC5ma2XRack5ylKm/bUa/RvjxckMUaAUaGKJwFjTBRoQOSAUaGKJwBycQI0AonGDk4AjQCjQCiQC5IBckAo0gUTgKJwByQC5IBd3AUSAXJIF3QNgTfNnLufoF/xX436LnokPJTVih0I+pt9RhrHo3pOfWePSq0WqGtnXOhn6udSv0NLPFaGUGqlypdZj62XqirV7Ndq7mamY3bSZzTUib9pcn/AET5EHJwByQxcnAHJDFEhCjQA5JoXJACNwjIkBg9nn6KiJdGAuSAUaAUSAXJALkkC7uwUTiByQxcmBkSQyJAKNAKJAyJAOJN80c2w+pLkPjvoqvlLjyUNY2oi7OTssNqepNbx1eLQrXN2lpUKLudq5rWhnambSv52nnhaCaMVO7SttZunmaQq9a1Eyzm6ubRaJ3SgSVr2dyf9A+UBycARoYo0AonAEaAEbhG5O0DkgFGhg5OAXKtni6aqmj6cRclpAo0AokIXJADk4A5IBckAonAUTgDkhi5IBRpAOSAc+18wYaQ+ljyfx30K8gIeaxrFZRF3EvUc+1Xcr60aU5SOyalo0nN/P0qFF3P0M9rQz7+UGlnauay2E8Iq9upcFka2VrMqwzwiuZerlsuubCqp069scl+gfJCjQCicYOSYKJwFEgFE4A5IQonAETgKJwBydOatbq+V6KRr1vOBydAKyXB3VpDjYQit8mRLo52RITIkDJ0DIkAokDIkMYpPmzG6PePy3yH0A+QEPLTVn0JIu4tb/P0rQlmVVdGpetVCTsnpaWc1foaeaF/M1M0NDL1slrTzNXIZpwWYEq1ypcZk6uXqiq15oQvMOx181fAt+fejx9us9eJ6v0I7v8Af/JiicAcnGCNAKJxgjQhRIQokxkSAUSBkSGLu4KKWv5XozvDns3FWkz0dnXp+eyd9sxRJDMTgKJAKJxC7oGRIGTuAhL8153H1Y838l7y8hQ8eqqvsIg71dJz7jbspWUrT2qOhQ0GqoyRiu52nmj0c3TzWr+bp5oaOVr5IaeRsZDNSvZrpV7dayzL1MrVFVrWaoWPF/auf2n5h9T9Nva4VVcXJ1++O7/efJC7ptkSTFyTBRIBRoBRJgonAHdwFEgFEgFG4Bib3MeV6fgU30T5DrnH6x5Z676PDqOSEKJwByQhRoARuMEaEDkgFGgFH8/53DohhfLe43kDhx6Ks+9Di7yXb5+gL7WCzhu1Kk7Na4yhcpXmVo5oRaGZqZjNHM080Whm6ecnoZWtlhpZGxkNalazXTgtVrLnL1MjVZXr2YEWsrXymX2kAmsmVV74nf7b5hk7gLu4CidsUSAUaAEaEKJ2AjQCiQC7uAu7hBwfUUeffc4jt+L1j0BGtMxRIGRIBRIGRIBRIGRIBRIQuXj01Qz2yfmfabyBh5NFWfpc6j78d/l6YrRyNibvas0dGgIrlO8zKv0rooYZoR6OXqZYaeZp5gaGdo5wtHM080NHI18hmrVtVURWYZmZWjRvkwRSAO3ka+TS0wkjSopKr+g3d/sPmWTuMUSYyJAKJwFEgFE7ARoQOSAUaYDk6YOUQch1nO9ZF5vHdjyNT3yNUhRoARoQI0AOSAXd2CiQmRMNuU63Bx18D8d9i5bxfS4Clu4Mm96bx/pXldo6MVrPUFKFIUTNXaF2iD36LtV7uBQueqi4mnrn6dl8H1knS52jnYbX8/Qzg0c7Rzg0cfYyGatK5TE8sZhm6mXqsosnFayNbJZqRyRpUEKrT6JTF9X86nTgydAnTsZOgSTjZEkxd3qRRITIhBO7gsfZ53Hbb0WLzu/E5PqeZ6cfQyrDx9lmOCDVW2zI+zk2Gyx0y1lmTbYXVWlRKjWWoO43m6T6ZMndps3Scfi2J2XJ/L+60wnx7lFYrtLA3+J2zReuXPW8Pwza7TpNI4Cn6bytTo3bLwuc5HsOT4vU6DO0KHm+lezdLPDQztDODSyNbKZp0L+ciwTJqhp5mkGbPUuilyNfJo1YjjU5qBVr9AO8Pu8Fp6Lq7YVoNsNCxhPvz70vOG46I+etxWs8Bc/SQCM6StVSq0dR5u6dCxlqWWehk51EufbGw9bJ7uHuAGPzPROsS0uiFqp285xtJtlHIy0yuXYJOHrsKuU00Kg9Dhns5c3Z52oVWV5TKJJeY8x0fPfN+2nTcu1mrcqtDw3ccLtn7Va5OX1Pnx18y8Ory3oUqfJrrWivNY+kwOb0dejdpcPoXKF+iF7O0M8NHK1MtrTzdLMHdCSIVHTzdIMi/Q0GjxtjHa1o5IkY6hWmv0eDx+35IBBb0dSttwqslaUWk03mh2zJwIJJqxos2qI53tNj2oJY0ihkGvNyaeNJjprjnR8/VUzTy+7h7uTnlyd/QxZBZ6aSoAO5DXHaLD01rjs2Mm7ydVx4zzctiraWNPP3Mr0eKCUz6ecZZFD8ux9XK8DvcDHG7lS1VAeH7fh9cvb54pujxmTuwRNpbMTRfG42plx36VO3Vw67NK7SHdoX6AX8rWyhaWVq5Q9KGaEVLRztFrK0M3SafG2MgNeGWEOfQK9vfQyG+k8zcbChqOjXMy3HSQ89ILYgyY7NocMaNpYjs2Xx5E9l86XO7stKWKtM0cuWWo4r8mcUlWodbbm6CMhz3ZOLJXrHGtuzmx4dO2/PBcb8GNcK2JMZ8Nd+3y0knTVsl09KtUDTPTLGadOLozQ+QMBhmrUEohBwvc+bbZe/y+YT35fpJebOn6O3nQxr1O94f3YoqORrx26FS1WjezTuVB2qN6iK/lauUzTyNfJDTgnrBV0M/QDK0s3SabH18YWzBPA1zKSvX0qXL0fsvnxeseucqjcJmB0MrARtG0pmkBTSxtUVoQjkF3kjU+W0MsC25rL1SM7bQxzclC1QMtd4Hupzhjm7T03nS4VBZ9GnFRLLonUcS0vzYks6bl3Cfh7elarNx6NCa9DzKSuD1cfAj2eRw54DbcWVZ5WIpdLy71zPueYm7Aejg5ZdGMvm8HNrbHcvp0+HXlu6889D5e+9VtVeXqtVLVQLVK3TTv5elltamVqZQalWxVCC/Qv1OXpYuygcXZxg2oJoGucTK7q7HmO1+hfH778TL08/dw8fG33C4+fWe+h5m5zdOo/Mn1c/TycrIq6ouWUnXFyDKu10vPNTm6ekfi31y7afgzT9Jo85ncfZ6Tj3eIzz7g+DPrj0QuUyeDv7hcKfbw9ufD7PP1bg83Xs64+Pda9VFznRxWhR4LOjj2+b0avV5eHj7XNPbe0JNJ5w7OPY5tu36n56wM9Pr2P499OnT2ml1HNZvPOt5Vc+tt4HVw09/j+fIg98x/Fq8V7YXhMGWvvk/wA7hN/SsvzHDhp9S1fBfWfP7Oty+eyov0nJ4+IfpNXjRl9fyEcG2XQ9Hw+9zaa2Tq5eOutXnrtYCkVm0fhT/f8AyHuvnvG8plfqXp3yX2+1fQjeFSKfbh8WkT9ebyQmerD5aVL0yLzokd7X46XO+nLm5VWxFVOpkkUmkzU55B+jedI86z20y6c4KmkeV5TaqpZW3FHjtmHwvo+mNO3p9oLH5KH0LlnH1LK14uLodly1rgbWR6VPZay+qyL5+ck0KRWB0WEMVxf0P5r9ScvcPIdhzkPy7wr3ryv0+nwN1Z8mNXosfq748sdSjC5On21q9fOR73jp0Xb0Ok8Trh6STjOue66fmeK6zs6PN2Zh46vPt9VQ52JHVZeC2V/U8vkXQeN6HqnJ4/O6q2udXteb5lP1kFrAlvZyejNz1drsVxUI/QB4AEegBw10fWw8rUk7geOhpdnDyBC6qPmgH0UOI7Wmsx07hR2ZoQ0rMvnQ6OzccqHaM1xy7awjhH9EtFea9/8ATltHyt6VzHmfRw/SHQfL3c6YfQlXlvQIjB4DufM102O+o7W2cdaHP1ws89pYM6Xc/v8Auo019xLj7GwOgqUvJ+H7C17E/EE0YeTr0HccH1/TxzgQvKaevI5q5u02hx/U8h1HzHs9Pt8vt8tcB6JnYP0PLVsbODz61Oe2cOmonhAI1EHY8d1nIXnb7bzvuc70ElnpwEKDpxOUdOliv12oT5+HqOjS8eb3XVa+edL6Fu0vna79DTNeB6Xt0rXjV/1k2eY3vQSFxd7piHi3NBkQSuY0TMBnCaCTkqZ3cG1aPq+dS2bFLCljdIIuTh7kWuGr9Vd2z85o+qmn5sfoqa4C52bBz9+8SefV2aoRvLEKSSq6rzfW3sz1Ob4y8/8AvKlz7fDvTfU/Pc78Zt91iaZ8Fl95n0+GXW1pvkJ+hPn0tb1TtPP25X0vqtjpx8x4L3Lz/vz8gx97m+PpeN7qeRCcVTLEyaXccR28FxQKdd/Y3r3qebkXdOYM+e6Y6ss5jhMzASIxsYpKZ4nTkZnTZ06ZIGTlUZolOFk7LwSDleFh2XrOnbGsg0fN+b8a56/R+n4v7LkTec+iec78/ebfJ7GG+B1MYj6F8Qw2VkmGnx/QhS5LuOS6OlZeOYBjlainHerua/P9CFLjMHs/Ke6PULvmXoWUW2kDJgJsyKOcWqtbQjDz/pfLI+vD12GeLz+qrx/aV6PE/IPoDhb08ulrR8u0YOLSdiBuy4zsJLKSjT2Kzbrer5p2SmVRFYQ652HTiUpJwmbCESUsWN1TyASE0jgJskzlrsOwoXRYKmYWVG43ilSIXUYeJZGno46aP1P8ifWeRZKF81KcTtTRPEFpAgNC4yONNXbmTMzRSKgEm0TpiRVp61Spo5ujHceQ5/sfmHVPoF7yj0aIvCQ50IuzQgY0szL6uLLTnJMu7DmjmV5cpxnq3nPfz+Ecx9E/PHnenCztFJ2QLrOT6hFpV1NfR9aar6PFfcGlk7Om5igNMhuxJDSAbDOJwRAgkQuhRTknBK7A6SQahIZOwyzYEE1GwCfknp3M7Ua5/svkkmS9W1o7GSneJ0TRIEWkDtE4uMyjdpHWmCxcyib3hy9S0xOrTogl0Mzbw9IUKkuPPMf1biOiOju8tvQrAk0tC0YUPPfTKWb4vppK0VJFDnXGxtcX3eb4n5W+tPmLbbz9PPlpXVwAr9Jz28gkCD6UaUu7jz7dC8rkZmAnQDeRJCMACw9dkW2rEEx1SCwcMgSC6G7SOERGSIHlEGRFLjmjZU8Bxo8c63Q81nTp8O75Cn9o7fwh6Tzn1po+Xdtmt8My0i8cZNG4EwmaJrI+W87yzZ9n6h4DNT/QzY+BPtTFd8sTQRPnX85hPAQqToenI4pBYGJuC54p7cZA3K0MVdjogK8GfC1czLOlRmdLl1WqXz97h4yt/M9Er3H0R35ZNAMHoOfojTq4+lCgk6uXOvVNFsVMCAUzjAkQOTEmmOMTFESZSDIDuaBOyBEDpunIBd0hpBiTlA5E67WBTq5e4MnluB7bFFeGL27PzryDsNqhnXpnTfPGnB73o+fdilulz9mp2Oc2fOqPi6zV0Ol2y7Dea8r6rByx/orZ8G9z5lYGNNOKaShGUO0SRPEFwqDMn5nbjvPOnmjqGTV2Tx0GV260OUjQjp2oM3zT0bgdjmIehaNOah6ejneDj9DTiubXsKmeyIH9PllytPMHrOhCSSvMm5JhtJHKhyTsjkTIYyYHJMNAkmTiSE6MCJkh0CTM4gTsjGSEzsmISCnXGwMlbO2IZrmsrtaUPgtPXzs79A7X54tzPvnI0OyJ+E/RcP13rKtW5qaTx/l+1NNw/d/51fa2C9DUahEonRUry1dYkBgEQMDCjEKTxKjSy30IaqWjg2uqi2qenPO1S8/Fp5xgdbxvSJycUYTvNUq+o+bzloqX00kR9uNjLv0xaYVLBcxxElOCQOgZOQoHCzJUMLbwoLDREiRhkYLmk4zckE8aA2FxoU6ZHC8uR2NABOk4FLGgBnZOrBejTzauvXl8/l9XWl8ZrSZObxO18w+n9Fw+hDT68uS5D12jNfOnvHgfW4X9yqJc8mUVVkUEFCzVHw+ll6/vIeb+pX5tALcW3LWqXodIXOdHBtjyuhotrNS/R5nHXr8Xi8ZaatSGxTCZ2CRmkQxMlSRpVrOb74CZpPJ1svSHalhMCJiEJEyCdkMkCCYopBuQkJyZDNM6GJkCaRxxE5CY45E3dnTd2aWTMwG8LoIIBRZarGmdecx51PahRzobdSK4ft6HlNv3XOs+Iax6n5N7d5BD4GEgivt/qPlH6X5DUhgFqZ64VNxqMNLWLDpWukj8ro0etVPmLMdfTfL+U8mn6PN5nOq69sLQqdebOt6Rbnr2aHmExSGBCJIgSNK9sJG35xkA1WRqHkBtmJgSFJmhQE4MCCSNkhQGiw9aRliSE05JQQSIEEhQuEqrknMoQFYVUVVuOtMhlI6ITNA7SsERSNLECccME0QV61yMeP5X7JiS9nD8Z9O2O88S1/MEU2TYU/ZcZaR6dJ5tbH30XFyp9TXwyFoZdlx5j6Zys2W7IFKS7YSqS3pWUrdqdqvZnlqWshNaklA2pHKRkRSOEKkRWwUJdHO5xSqn53oueDoZY01KLMmU1cgIWAJiA0yMEKVQuBsQDsvUkCY6zhIwiBsE4RERA08ZhKlInAZMDsMacpQEErMIGKSAaQQrBMIVY74p8Z4/9G1or5ZrfQGBlXj8nqZp+b6ncOjlp+jsi5kurBrmy6Fk+ffdTWJJsEPHl0zqcuTSlZmPqStZU9+RzTmspgyFKOJTSBFKbNpnYDRILZJdHOpEkSZ6Q4tNJ2nSUCKQSpIpOkkVdIonSBWEiTdJ0TJCN0gaRIESQOKQI0lUwpAgSCRkkMaQRukmmSaUaUgRpUMKSArpS6tdJOKulm4mSEjSbJkkQpJpkk0jSBOkBkkwnSbJJAmSSM0m3SSHSRTpIf8A/8QAUhAAAQMCAgQJBwgIAwcEAgMAAQACAwQRBSESMUFRBhATIjJhcXKBFCMzNFKxwRUgJEJDgpGhB0BEU2KS0eEWVHMwUGODk7LwJTWi8TbCRVVk/9oACAEBAAE/AQh/vG3+y/SHj78GwptPROviVYeTp2jWBtcuDuFDCMMZRtN6qbnzyde0/BcLMSFHSDD6Y2kkbnb6rf7po4ynusudK6wyA1lUtO1zRllf8VTwdSij86wW3pjEW8+PvoNUw5ru6VCPNM7ApBkqTVJ3yiv2mLx4pdio+g7vniqdT+6o/RjsTtSCAVvm2+ZZW+bbit/unEquKgw+orZvRwRl7s7XsuDEdTjGKT8LcX1uNqZmxo6vcFV1LMPopa2o6Z+r17Gqpmkqah9RMdJ7zc8bk4oNMp3N2lUtLpW5tm7BvUEFi3Lao4k1nn4/FNYnt85F30GqoHMd3Soh5pndCk1Kj6MnfKIVvpMfirKUalR+jd3zxVQyf2KP0bexO1HiA/VLfNt/uGy4ZYjLwp4Rjg1QuLcPpX6VXIPrkf8Alu1U8UQDI42hlPTizRsuP6LhNifyjW6MZ+jxGzP4jv4ynuQaZD/DvVJT8zNthsCgg6kyPns7Uxia36TH4oBSDzkXf+Csqkcx3dKiHmmdilGSoxzX98or9pi8eKbYqL0bu8eKq6L+xR+jb2J3RVur/ff6ReEHyHgvJ0xviFZ5qmaNY3uXBbCPkjC2wa62o58793/171wtxEUtKMNpjZ728+31W/3QFhxFPcmMdK7+FUVJeziOwJkNhq2hRRrQ89H3j7kGq30qP7yspR52Lv8Aw4qr0b+6VF6NvYpNSo+i/vlHUv2qLx4pRqVF6N3ePFVdF/Yo/Rt7E7UUB/vrH8XocDw59fiEuhG3JrR0nncFgrKzHsak4VYwHNib6lC76rdn/m0quq2YdQyVs/pHam9exqnlkqJ3zzO0pHm5PESpHWTGGV1/q+9UdKRm7dqVLBZrUY7DxHvTWIjz8XafcrK30uPscrKX00Pf+Csqz0T+6UzoN7FJqVH0H98pyHrUXjxS7FReiPePv4qq2i/sUfox2J+ooD/fON4rQ4Nhz67EJhHE3Vvcdw3lQU1Vwxxk47izHx4aw/RKVx2f096ZoyODrBsLOj19fYuEmJfKNdzD9Hiyj6+viKkdZRRmR13dH3qipOde2pMhs05bFBH5tvYpW5DvD3oNRH0iLtPuVl+2R9juKUefh7/w4qz0T+6Uz0bexS7FRejd3z70dSHrUfYeKXYqP0Z7x9/FU9GTuphHJjPYnE21LQd7Q/D9XitygunNs4jd/uDG8VocFw99diEwiib+LjuA2lRx1XDbGBjWJxugwuLKmpiel1n4prRKA1o0YBqA+t/ZcLcVayN2H0z7vdlKR9UbuIqR9hrUUTpXAkG2wb1RUVrOOZVLD0u8nstGewqJvm29iqB0e+33qyPrMXaeL9sj7HfDil9PD3/hxVvon91M6DexSbFQ+id33e9O1L9qj7DxPIuqO/JnL6x1qx3qqb5uTsKiFo29idq/WZxmH+0P1/GMSosIw+Sur5hFDHt2k7hvKf5Vw7xWPEq+HyfCKYkU0O2TtTGtkaGRtDaduQA+t/ZcJcbFIDR0bgag9J37v+6OskkknWipH2UMLpHC4vuCoKSzm6WtQw2GpUrOn3yphaJ3dKiHm29iqBzmf6jVZO9ai+9xftkfdd8OKb08PePu4q30L+6m9EdifsVGRyZ77venF1sh+KcPpcWewrRCl2Ki9Ee8ffxVXopOxM6A7E7Uj+sDnQW3fr2J1tNhuHzV1Y/k4IW6T3J8tdw8xBtXWsdTYHTvvBBtlO8qNjHsbFE0Mp2CwA+t1DqXCXGxSNNHRkeUanOH2f8Adbbk3J1kop7rKng5R40hr1BYfRgN0tpUMQE7fFBmSpRzX98qpHmX90qMebb2Kp6cf+oOI+txfe4v2yPuu4pvTQd4+5EhVpPISZbE0EtGac0BUfoz3z70dSGdZH2Him2Kj9D948VV6OTsUfQHYnalf9YgNnW3qRtnH9cqp4aWmkqaiRscUbdJ7nGwAU9XX8O67TlElJwfhfzIr5znrUTGOY2GFoZTMGiA3LS6h1LhJjYpAaOjI5e1nOGqP+61m5JJO1FPdZU1O57wSLk6upUdGGC+3aVRxeZZ2JjfpTfFaOSoxzHd9yqx5h/dKYOY3sVR04/9QcTvWo+xyur/AExncPwR7U4fSo+0+7irfQyd1N6IU2pUXofvH3p2pN9cZ3TxS6wqL0PiffxVPo5OxR9AJ+r/AGVv9uMipswHf7AAnYgzeVZg61fcP1CaSOGJ800jY42DSc5xsAFi9VUcOsVMUTnRcHqWTJwyNS5QxR8k2ngaI6aMaPN29Q6lwkxoUjTR0ZHL2s5w1R/3Wd7k3J2nie5UlM6R+Yz9yoKTRLB2oRWaqRn0ePuoN+mM7CnDJUXoT33e9VfoH90pp5otnkqjpRZfaBWO0qw8rZ2OWxNH0wdw8R9Zj7x93FXeif3UOiFNsVF6H7x96dqTfW2d08UutUXoPE8UdFLVhwZZoP1iqzD5+a81dtEdEMACkmIcWvfcoOG/9ZZmwtKG46xkfmAE6kI95XNGxFyzP6i9zWMc97g1rRcuJsAFj1fLw3xDyKhlmhwGmdaeQZeUv3DqVPDEyBlLSsEVNGNGzfcFwjxoUbTR0ZHL2s4j7P8AuteZzJ1lFPds1lUVMXSZi529Sw+lDWDJRR2naP4SnN5hVMPMR90L9rb2FG/UqNt4Ne0+9VYtTyd1N6I7FUemh/1PhxN9cb3T8OJvrn3Piiv2qPvH3cWIejf2IalLsVF6D7x96dqTPW2908U+sKh9XHafeiVBiFDRUodU1McY6yq/hXgDbt+UoSep11VYpR1tUH0cwkG2yY/mj9ZbkVNzJ2u2P5p7dnEBmg0DNxWmPqq5P6nI5scbpJHBrGi7nHUAsdxebhtVuwrDC+LA4X/SKnUZz7I6lS08MVOyjo2CKmjGjzdvUP6rhHjTaNpo6Mjl7WLhqj/utZJOZOZKKc43s3MqipS92vO9rqkpmsbYblSs823LYmN+kjuH3qUebPYVTDzEfdCHro7D8E7UqL1Zvafeq31eTurYp/TQ/wCp8DxM9bHcPEz1z7nx4v2mPtdxV/Qd2IalNsVF6Adp96dqUfrY7p4pdYVF6Adp96eVw0wdk4fVxXEjcyC7JRYRWOcOUj0AsCwzkIhYWTGc39aq3M8ncyQ9nUon+ZD5iG5Z5qPFKSWUw00sb3e1pZf3Widb3aR/L9V4W4jW8K8YkwDDJTDhVM+1XUxu9KfZCoqSCmpWUNEzkqaMWJG3/wA3rhHjLaJvkVERy9rFw1Rj+q2kkkk60TZEknRbrVFRucR+ZVNSNYGC2WkhEGxusPqlQN80zuhNH0r7nxVR6J3YVD6FndCZ6/8AdPwT1RerM8feq70DuKf1iH/U+BRUfrf3D70VH659z48X7VH97irug5DUpdYVF6u3x96f0SovWh3DxS7FRerjtPvRCxKESQSgi+SZQRWHMC5BrG5AK361jEJdTOla/RLRmsSxiWok5KsqTDCy2iwgjlP6qnqGOtycrSOoqhxWugbbljbdrCwSudX0pkfGGFrtHLb+p8Jser8exWfg7gb3U9JCdCurW7f4WLD6Ono6VlBQs5OCPIkbf79a4RYy2iZ5HRkcvaxI+zH9Ubk6RJJOslEpxLnaLdaoaMyd3ad6o6YNda2oBcnZ0Xe+Clb5p/dKiHm29gUfrZ7nxVXlA7ulReib3Qm+u/cPvUmpUXqrOxV3oT4e/il9Zh759yKh9b+58UdSi9bPc+K2L9qj+9xV3Qd4e/il1hUXqzU/UovWvufHil1hUPq48VZVQ809NGSf0f1vH5foj4W6yLKamg+TOQlhjkYyK1nNvsTeDtHXVTaF5fACzT04cnNKHAvF4Khvk2MwywbeXiOkPwWEUXkFAyn0w9wzc61rn5luK3+04TcJarGsQm4O8HH6ETObW141NG1rOtYbQ09DSNoKBvJws6b9pP8AVcIcZZQx+RUduXtYkfZ/3WZJJJJOZJRKJLjotWH0ZcQbG3vVDT2jbkqdnnH+Ce3zkXe+CqB5h/dKZ0G9ii9cf3B71W+rv7pTOg3sUfrp7nxUvRVF6pH2Ku9H4j38UnrUPePuR1KH1s9z4o6lD607ufFFftcfY7irugfD38UqovVmdif0SoT9K+58UCpdaofVmoqq9G9DUn9H9aldoRufuCu6qrWt185VvqkvdWD87HSd0R/U+GWPyYhNLwZwB7ZJ3jRranWynZtHeWE4dT4bRNw+gboRt9JJtcf6rhDjLKBnkdGRy9sz+7/usyS5xJJ1kolZvdotVBRZXIy69qgpw1upUjPMM7FA3zsvh7k8eeh7x9yqvV5O6UOiFB63J3R7yq31d3YUOiOxQeuv7nxUvRVF6pH3VXdAd4e/if63D2u9yKg9ad3B707UoPWn90I6l+1s7rvhxVuo9o9/FNsVF6rH2KTolQj6Se58eKRUPqzEVU+jd2oalJ0U7X+s4vJoQaO9YJBmZj4Kv9Tk7FgI/wDWZeqP4/qX6Q8SxUmHAsEE0VRU5zVWhzIo9tnb1g+G0+GUYoKIWtnLKek52/t9y4Q4w2gj8joyPKCNf7v+6NyS5xJcdZO1FysZSQ3ZrWH0fR0m7U2DRj/D3rQswqlH0aPuqD0kvaPcpPWIfH3Kr9Xf2cUHrUvdHxVd6B3Ytig9ck7g96l6Ko/VYu6q3U3vt9/EfXYvvJ2pU/rL+6Pinaiqf1mTuhFD1xncPw4qz/8AYe/imVH6tH3U/olQesnuI61IqL1WPsRVV0Hdo96GpSdFO1/rOIuM1XoN7FTxiKFsY2Kv9UeuDmeK1J/g+P6lwla91NFoutz7FcIcZZh8fkdHY1Fsz+7/ALoklxc4lzjmSdqcVI4rg9Dyjah53tCihDZoxbb8FMyzB3h71KPNlUw+js7oVN0pu/8ABO9ai7HKt9A7ipvWJfBV/q7uzipvW5e6PipzZhVIbU0fdVS0v0dHY4FaQUp0ZmPGZvb8U7olU3rD+6E7Uqf1iXsCOpN9bb3D7+Kr2d9vv4p/gqT1ePuhSdEqn9ad3BxTbexUfq0fdRVV0PvD3oalJ0U/X+sTO5OFz9wWFRcpUOmOpvFiXqju1cGBfEKw/wAI9/FZWVlZWVlZWVlb5+OUVRX0JhpahtPLe4e5ulZVX6P8YBLo6qlqCc7lxaT+KquB/CKD/wDjnSDfG4OVXhmI03rFBUx96IqQWNjl2rgpHejqD/xWLQ+kxDt9yqB0O+33qcead2KAfR2d0Kl+17/wR9bZ3XfBVmcdhmbj3ouCh5kkjnfWtZTgStLb2UkzWC7ntaOsp+J4bTuJNVCCdfPupeEOGjoukk7sZKk4TR/Z0cz+0hqGNYlIT5Ph2s35znO9wUtRwldE6UwthY0XJ5HUPEqkc6SipXvdpOdokneU7olUvp5O61P6JVL6eXwRTPWx3PjxVWtvfHFUdE9hVN6BndCl6BVOPpL+4OKf63YqT1aPuhFVXQ+8PehqUnRUvS/VxrWNO0IWxjW5YfTCKma09I5lGMLGABSZb1wSbeorT3figGKzEdBWG9WVlb/b1FBQ1ItUUVNL34gVwnw6gw+WJlDSRUzZC0uEYsCdJEfTI+wqpHOi74VT6B3YovV2d0Kk6Mn+oV+2N7h+Cx2vdh8TJGRiRz36IBNtiEvCKfOOhZGDquP6kIYbwlm6U8cXZYf1VVgeItkp46jEpHcu/Qyc7LLwUfA6mPpqiR/3R8VDwVwyMdCR3a/+ixHCKCCqw9sdMznzEOvnfJRUVNH0II29jQuSCx5obgtYbfYuVHlR0Q6m+5P6BVL6eXsan9Eqk9PN4e5HUo/W/wDl/HiqfSM/1BxVXQd3SoPQs7FJ0Sqf1l/dHFVGwd2Km9XZ3Qiqnojvj3oalJ0VN0vBXG9X/wBnZW/2Nk4eU4rbW2NXWksad9F8VwR/bD/EFdXRKc9OkO9cqVyxRmKE5Qn6kJghICsrLJZb1cK4+dw09apx3fej66zulVHpIf8AUCrPV39hTfQt7qovRu77vev237nxXC7o0Y3zn/tKp280dissXH/qGGD/AIzv+1AKyxn/ANywsf8AFd/2oDi4R5YFWH/hFUo+j0Q6m+5P6BVJ6WX7qf0SqX0s3aPcnalF607uBFVHpI/9QcVX6N/dKh9E3sUvRVN6xJ2DirNTuxU/oWdiKqdTe+FsUmpTmzx2IhCy0Xe2iDvK0njrTpTfchORrQmYUJWHarjiFl4rPei4rlCuUK01pq4VzvQJ3/kpZHMjc7LILCmlsbpSM5DrWkrrGj9FXBL0VUf+IPdxXRTgnpue1FvGExqaAFdXT3Z2Wmg6+1NBQ+Zwxzr6cdbfiv25vcPwVR6aHv8AwVd6s/ulfZDsVD6A993vTfXf+X8Vwr9LQN3zn3KIKxWKloxbDLuA50hzP8KfW0UfpKynb2yBSY3hDNeIweBv7liOLUU2JUEkDpZmQucX6ELt3YvluM+iw/EpOyC3vXypWu9HgVZ997G/FY/V4o/B6kS4YyCIt5zjOCR4KAcyj7B/2p/RKpfSS9o9yk6JVJ6SbvD3J2oqD1p/dHx4pvTR9/iq/Rv7qj6DexTdAql9PL4cVbqf3VD6JvYiqj6vfCCk6KqemMtiIciSNi5QhcsuUTnZq6uroOO9co7eoZrdJNeDqKc4DWg8O1Ig7ES4awtNqBGw8Qc5NddYgSYRE3XI6yY0MYGjUBbiusbP0dcE/Vqg/wDF+Cuii5A3TxdEWVzvWTu1EBMQ1K6urp6z4o5NFCRu9BwOo8V81wsN8UgHW34r9uHcPwU/p4e98FX+qv7E7oKi9XHafemeuu7nxXCoF9VhzA7RJmdnu1JmFSOHnMVxB3ZIG+4L5DpT6SSrk71Q5NwDCdZoo398l3vUeFYdH0KGmH/LCZTws6ETG9jQtFWWiuF2XB6q7B71H+yjqH/apOgVSdOXvD3KToqk6cve+CdqUHrMndHFL6ePv/DirPRSd1M6AU3QKpfTS+HFWan91R+jb2IqfpM744pNSrD5wZ7FZ3tI6QGsIDS1WKdGdyMZTg4IX3cV1fjaSNRQcTrKuo5vaTXhyc1pTo7alzrXXKFNlWnp1YJ1Rj80JQtMIuCxp14PBcFzajl/1VytkJGlG3EXLSBTtFFaVkHC6Y7JA8VkGprMlPFtHG11kHA7SE3S9pcJyTi8IO8e4oeu/c+Km9Zh7x9yxD1cp/RVD6q3x96j9bk7g+K4Q54xhLf+Kfe1R6v9hw0NuDlT933pvpKfs+Ck6BVJrl7/AMFJ0SqTXL307oqD1mXsaipPTxd74cVd6J/YhqUvRVJ6WXtHu4qv0b+xM6AR1KXps744pdSrPSjsQcnkWRdovu1NnaTbUrgp7QtBFiMeS0UAeMFaQ3okb019j0k2Qb0ZBvXKi2tFzDmVdt9wULQWl9+kV4rPejpFYoT5O66wFxbRv/1CjIUJVyy5e6MhIQddaZvmnPur3WYTC/aCmuyQcFps9oISM3pjwdRBTswnMN0Y7DWomDW5FjHaskG22rhJ/wC9Q9v/AOqb66f9P4qX1qHtPuWIeh8R71J0CqH1SPsUXrUvdb8VjefCHCW/xE/mFHqR+fw4/wDxybvs96/aYB1H3KTolUn2nfUvRVH9r3yn9FU/rE3h7kU/1iLvH3LYq3oOCGpTdFUfTl73w4qvoSdib0QjqUvpIu/xSalXnzw7qGQ6SudSbo63KwLs3ZKVwGTUyps3nG5XlIIyavKHeyjUP3fkjOvKOsJ1Udtl5SF5QFy38SD/AOJB3WFn7QQ0iVZ+9ecCL5LWTXu1FB5TZDdaZWKuvTlYAL4ecvtCgLZXWh1rk/4kI/4gtDfIEGOGoj8U1hJGk4WTYodO5N27kTCcg0BaTRkQ26c8nJAkHNMaHDMkLkW+2UyJntFNaG6k45LST3ZLSQkIRk61jpvjcXaf+1M9cf3B7ypPW4vFV/ox3h71N6Mqi9Ti7qg9Ym+6sWcP8U4Vc2sCf/kFE8EXBReBtWmN60hvRcN6DgVVYtBDjFNhTefUzc4gfUbvKuFw6d/6BbfPGPzQ9ci7p+Cl6BVH0ZO+VJ0VR6pO+VJqVL6abtHuRTvWYvHiq9R7QgpuiqPXL3uKr9E9DUjqT/Sxd7il1LEPTjurl3aly4AzKNW21ro1Q3oVV/rIVItnZeUBpvdeUg7UagD6yMw3rlW9S02HcuZ2Kw9oqw9pDL6yYdt7rSTHA70HAOXKAJ0o2LTvtQeQFphB3WsTdemKwJ5FDYe2VplaS0lpLSCa4LSj3IkbL/ijfe5FxH13Jsjr9IoSHaQhM7YVyz1yjjtTZJdjkJptua5U7WrTReuVsuVKxM6WMRHve4KL1yTuN+Kd67H3XfBV31O+Peqj0LlSD6LF3Aqf00/h7lwgNuEtB1RE/mqWuk0BzivLXl3SRqnb0KuX2l5W4fWTq97GOe6TRY0XJ6lgLH+WT41Pfymr6N/s4tg+KbWP+s5cK6rlaCGLfUMQ9eb3D8FL0FR9B/fKk6Ko+g7vlSdFUnTm7/wRX7VF2O4qrV94e9BT9FUf2nf4qv0b/D3oak7Uj6eLvfDil1Kv9P4IZIm7QtELRWiNwWgNyt1BaLdy5FpQgvqK8n615O7euRk3rknda0X+0rO3lDSCu5aTwmPcXWK5UnWr3GtX61c+0ml2retJzTkQq4/Qs1hj3NpBbeVyr1yrlyp3ISLTWmFyi5QJrw5OV1pC6a9CQIOCjIV0USEU5A5KszxZnY74KH1ubsaj6+3uH4Ks6cQ/jCq8oHdip/Vo+4Pcqf0k/aPcsfN+FVKL/YfEqnaeT1hMabpwcheyJWIv5eeHDW6pPOT9UY2eJyWktNY0+4pW76hqH/uA/wBM+9TdBUXond93vUmpUXoT3j71JqVHrl/1EdSHrbO6eKq2d8cU/RVH0X988VTnG7tHvQ1J/RQ9Yj7TxSqv9P4IVUH7wKSWKNg09Bwyub2IK8pgOqRqFRB+8b+K5VlvSBcoPaH4rSG9aXWonc8bVyztJ8QjdGGmxJPSWmVpu3oSHeuURei8LSWktJPY+OMvMZJt0RrsrhXCvxA8mNJ2ROTbq6rvUgsN9VHaeMAaJO5ZcXivFeKz3rScFp32Jy0kHIOttTZ9EqN+k0EKziuSd1rkzuK0LfVCu8agwfdU0bpRzmwnr5MJ1FJsLD4FOpJrZtYexyMEtrOhceyy0CMnNfbrahosy0sutWaHEhzbHXmpqK9UypaGlzRbMLMDOGM+AXm7X8mb/KvMEuD6Vo3a806KkLTaMX2c9YlSYq6Q6Mrmdxy4J0GJfKtSK1znRyM9M7Mi2oI4Y/6tRGe0WUmH1rejGyTseq6KtfXUsTqN45OdrnEZ2Hgo866/8HxUvRVD6D7x96l1Kh9AO0+9S9FUWqTvlO1Jnrbe4eKp1s/1BxT6lRdB/fKYHSSmNguQ3SPUFLIHxi21w96Cf0UPWo/HikVd6x4Jk1nAk3CfM52HulJzdN/Vcs47VyrrqKVxu3LUfcmyv6lysh2hcq/2lTyu8opyZMtZ8FUTTCW5ebuGkc965WU/XP4oTyD67l5VN+9d+KFVN+9d+KFXP+9KFZOPtChWze3+S8um9sfghXTaw4KhrngyvfYgMz/FGteDlonrXlz9zV5c72WpmIFpuG2PUUKwz0srpG6ZiLXC5v1Ly3+D81Vu0sOjdvaqSobHCGEFCqj3leURe0qeVj3OYHa2omPZUQn7y5VntBcq32gtNvtBP5rrEhaS0utCSyMqMiMipoZqnoizdrjqWIYxgmD+mmE8/stzVVwuxap/9voBCzY5/wDf+inxDhFPnLiWh1NcfhZP+U7Fz8SefF39VNXVsIdIK+oDYxn5w/1VNX8IuQZKMQlY5wvomY5JnCDhRD+0mXt0XKPhtjUPrFJC8dcRHuVP+kGG9qnDv+nL/VU/DPA5fSPnp+/Hl+SpMWwmr9XxGmed2nY/mtC+YzCMYOxPpYna42/gnUEOwFvYU2lcRpRzyBmy+d1yEgGtpO3LWjDJuC5N+1l1yAuSYbrkGh2k2PQPUpaMSa5J4z/C8qTDaq/m691v47puF1Y/bG569afS1EIGnXNaO6UGP/zwP3So3PjFm1Edv9NCXS6b2eCp28nEG3v1qU81UXQf3ynaio/XP+X8eKcc+P8A1BxT6gsODXRnSlZGNInSdq1rHYar5cikosZIEbRzYDzTvB3pjfNx36WkLoKTooets7DxSKqF53L5Bx5mpv4TBNosfZhEkJZIZOWDmi4OVs0IeEDOlQyO+4tLFh0sMn/kco66riceUw6pGRHQP9EK8fXhnZ91NrYf3lu1Csj/AH7fxRq/MRPbMPrZrEqj6SNF49Gz/tCFSf4fxXlLv/Cm1B3IVAHtIVa8tPV+C8sz2LysE52QqhscqSqvT1RB1Rj/ALgvK+tNqjvC8pHttQqW+238VT1NqCocHN6TW+9eU2HSapj/AOkwHfGFLUaDtFeVG115T2KiqdDk2Ac+d4HY2/8AVSVPnHdp2ryoLykda8p6iqWobPA8SMe7kG6VwbZX1KWv0xostGz2W/8AmaFSNrivKf4l5V/EhUaRsHXJ2Isp8OpvLcXmEbNbYr5lYhjWKYyOTox5BQbHW5zx1BUeGxRO0ooy+TbI/N34qVmi4jciCq9+iyw1psXlFbFSnNjPOy/AeJQYShUck0MNNCbdS8ogc+81Gy38KNDhtQ0uIyOpYjg+HwwSTsfoaDb5ZXUWDySUkc7pBeTNrCLkKlqcQoqwxU2ITQ6F76DzY+CwXhPjfl1PTS8nWNlkDM22d+KLQsZqjAwQRwGSSZrgM7WU+NCBnOoHtAyzcsY/SL5DWOpvkoEjaXp36T6j6uGwhO/SZWnVRQD7qP6SsSP2EI+4j+kbEz9RvgwJ36QcVOwj7gTuHmLH6zx4BHh1i37yX8k/hriMjCyV8rwdYLsk3hjUtboiL/5I8Mas/Yj8UeFlc4ZQt/FHhXigyBc3qDlQ8JJIqyOOvqap7nW0mN1N/qm4pHTs0eSc4uJduUmNyWsylYe2T+yOL1zJuUFHTnm2typ/ohj2If5CmPZOf6J2M1pe0nDo+ab5T/2X+IJR0sMd4TBPx3S14dMPvtUOMRtg0H0U98/Z/qqOvpIoWgwTB2tx0Rr27V8p03NuJQA6/RVNilFO7RZNY/xCyl6Kb62zunikUtuWfntXLx7wuXj3heUM3rhziNRDgxdSzyQu0wNJjrFcBcYqJMJIqp5Jn8qec99zsTKvS2rlIzrDT4Itp3a4oT2sCdBRuGi6mpyBq82FLSUMrtKSlgcbWuWr5Mwz/JxDsRwrDT+zjweV8kYb+6cP+YUcGw86uWH/ADEcEozqkqB94f0TsCp9lVOPwR4PsOrEJh9xqdwccdWJv8YgjwcqNmJjxhTMDro2PbHiUNnizrxa18hYiNVXSHtYUcCxTZLRnxIXyJio+zpHdky+R8SH7NF4ThMw/EW0UsBozd72uykbsuvkzELerSfl/VSsd8mwRAXc2MAjwVbRVzqlxbSykdTUaTEBro5v5SuRrBrpZ/5SsPE7a+nLoJgBINbStKQOPmJNfsrld8b/AOVcrGPaXLRb81h07PJZ2j6/XsAJ/ouVNtSEt1p/xD8VSxz1U7YaccpI7UFU1VHwbhzb5biO3RFxH1dq8jqq+p8uxl3Ky62QXu1nbvP5JlNfN/4KOLSgLRZoab3OpTsdpnI61K0taXEGwVQ/TlLnamZlYFCTTGqcOdUO0vu7FHRgUzJ3Z3P4FVEfOTmKBz280GwWKvkqZ4KEEu0nXcBuUjhBG97yNNrfBo3BU4L5pH7zZcAsG5GP5VqG894tADsG13iiseYXTUttum38WrAdJ9HM2V7pNB4ycbr9JkHJcINIanN48Ijje9wkh0zsvsWjDY+ZbktGEWPJfmpnwRtdpstZVE3Ku0o4S1qcXEWLE5vNaQDmi1wGYKgp5ZSA1h7SsMoGQyB8lnuGrcsYwxtRGaiHKUblwexL5XpDRVLtGvhFm5dMb1BiFdh73wilhdc84u6X/wBKjx7D+SPlmG1Ik/4bw5p/FYhXsnrXSwUzoozbRb/XrRqzlzHG/UqyteJQDHIB2JlcNpcO0J9e22TijXnS+tZPrubrKE8rnGzXWKwypdNg1PJJ0jGLqGQGpHcWkFj9c6n5KOJ2i9+fgjKHZudcr5YPtr5ZPtL5bPtLhFiZqaUQ6V7uusGxA0kZYDtuosfNukm4+fbQ4QO9tf4hPtr/ABE72kOEbvaX+JXe2v8AE7vaQ4UO9pf4qPtIcLDvX+LHIcK3+yfwX+K3/uz+CbwolP2Dv5UOElQf2ST+VDhFUf5KT+VDH6n/ACT18vzjXRn8UOEUv+UP8yHCGQ/sh/mC/wAQv/y3/wAwhwiP7i3/ADAv8SAfZj/qBDhM3Xoj/qL/ABRFqsP+ov8AFEXV/wBRDhTFuH84R4Uwey0/eC/xNTn7Nh+8EeEtPawjjF+tqweomoselrJ5o56Ysc1sbpb267JuP4e4XNLAf5Vh1dS4lVspKTDYpZX7BbLrKnkipNOjwmONk1rT1DRq6gqBoq8adbOKmzvvd/8AfuUMcfSeT1J3I+05crEI+T0jbNO5D945Y9PG2ERscTtcqqN8kcVK3KSpeGnx1/koIWgtYOawZdgTiwMLI5dIHWLKViexEaB0tywt5fUVNZ9Y+bZ1DasUdo0js+lkuBODHE6lvKNPIN58p+HimgNaGtADQLAcWNizKaT2Z2/nksGZo1dfTnZf8iv0sQ8+lqLaxb8uKmF5COorB3WrNHeF9Q6kWtOjzQq2CN8miWiwUUDG5BoXIR+wFJTsMbmAAG+SdpQz8/O29U7sgVE7m3VK64sVjtJLRVTMToiWOa69xsKiki4Q4R5ZTjQrIm6MrAVd7WvGk4eKEjxG46btllTPe5/OdcAhYtIWuu3WjPJyfS+tuT5n6I535J0ruUtpfkjI/LnbVyzxqcVhuJ4i2ip4mOaYgy2log2UOJysdpc0m1uivluXLzcX5rFJvLqtj5GaBYy3NcUJI2c109j1oR1J1AoU1c7Ux6+T8S2QSFNwbFH/ALOfFwQ4OYj9bkW9r03g9VXs6qp2feQ4P26eKQBfI9M0+cxUeDUMNwto85iM7u6LLkMCZrqKl/3wj8gN/fn/AJqE+At/ZnuHXIUa/Bm9HDwe0lDFMOaeZhsR7QjjVO3o4dCPuL5fAGVDAPuo8IZ7WbBE37qHCCuGot/BOx/ET9oEccxA/aWT8XxE2JmKOK15+3KdiFYft3ryqZzedUSHxXlFR+9emzTvdYTP/FaVQXBnKPuf4lJy8ZGnI4jtXKyG/Od+KDnnLTd+KOlok6Zy60HH2nfitI26R171frI8U/TZYF2vrQFmaTpD1KCGoqZmQwRSzSO1MYCSVwYwRzqmqlxOmlb5MxuhDKC3lJHmzAerb4K1RTVMrWyyRPvov5N2h4ZLDMfZhvAxolkLp2mRo2nXldcHKqgoODTMRqqhrGVDidI6zsA/83qjx3Bq12jT1ovq54Lfen6I1C6LXnUz8lI1rdeZWIv5We2wn8gsKj5fGZJiObTR2Hed/ZRCIOHLX0OpONEy5ic/S605zTtT1i0nI0byNZyCpIDBSxxbQM+1YjTTVc0FFANKWbohYFhkWFYbHSR5kZvd7R48eaThcpGtlnfgVT2j4WTMtzZmlw8RdfpMp+U4PtktnE748VObStWHnRr4+1FnmidJpR+qni8jkwIiyf6XJV7AI9Lkw47VQPPQKp3ZWULtRWiyeF0b7FrgoZajg7jQmi5zL5t2ObuWOUsNVRDF6A6UUoBeBsV/Nu7QqU8/xWLm6+zHeUnRHYnX0yUSiVC4swN7gSDYpskg1SOHimVFRfm1Eg+8sCmkljeZJHvINgSVN6Qo4+xo5kbR4L5dnkPNGXYn45V6Nw63in4vWO+0P4o19UcuVUlRNpemJRnmOuR/4ovcdbnHxQPjxNJGe5QxSPbzbZHUVOSHjTaPBEW2hFx0T16+NuvNON9nzB1KznHUT4Lk5n5tikJ1dFQUtSTnBNlq5hUdHiGmHCmmy1ebK+S8Ufn5JM47yLJuB4wQR5DJnvUXB3Gbj6GfFwX+F8Wc7KmDR1vCPBXGP3Df503gpi51xMHa9N4H4sf3P8y/wbirzz5IR4qLgTXuOiJoi4mwX6P+DuE8H8jVRVeLSCz3Nz5MbhuX6RcPxOrgoqjDGmXyeYPmjb03DYRvtuVfE7yt75oKqNztfKwuBv8AgsS+ULup3088cWmXNa6MhYhUVdeaVmiIoKaJscUd8m7z2krBmRxzckXRubydr7ysEq5YK6CkL9OnluADnoEC+XUr30jsAWJyMgpnSvIaNQJ3o1MDpXu5VmWWtcDYKYYZ5RWB30lxly69X5KrZEZjyOUezSKe1gGcsY8U+WBnSniH3wvlChYLeUxnszVXIa2tpxBBUTxNfpO0Iybqkw7Ga082jFJGfr1Bz/lCw7BqXC54arSdPUXLHyv3O3DYrq/FVx8rSyx+0whVBLMTwir9tgid2tOiuE1EKvCa2m0M+kPwTmlri06xlxYcOUlDtLnNzsg5xyIFlnu1I6V7hNdIPqrTefqFaLnZkJ8Om0hVAdS1XOBCgNwHKF6p5NE2vkscpmVVNmM9S4J4scMqnUNYT5JKbP8A4TvWPYd5E7lIs6eQgt6lTHnrFTmj6MdqfqHYndMlEhOOaYbYJ4InXlxcHj9Hf2p7hpnoqWMtYHJm66GRRe255uziCvzbfMDXnINcfBU8Vd9lDJn/AAoYXiMp0uQdfrTMBxB2RY1vaVHwYrXa3sCj4JzfWn/AIcELm5qH/gouCMI11ElvBR8EaEdN0ru1yj4KYY37IntJUfBzDW/srCmYHhzdVHF/KmYXRN1U8f8AKm0NKNULB4JtNCNUbfwQiZ7AQYzcFZnUg1qyVxuVwrhZIAb1Q4bPXPGg/k42uBc9UlFTUjXCnjDNM6TztcU6PK+knRSW6V1V0DprOIDiEKFn2lOx3eYCvkrDJHecw6l/6QCdgGDO/YGN7pITuDmF/VbUM7s7lU8F8Olbyb31T9oD5LgIcC8FH1Zfy/om8F8Ma0NvVaI1DldSHBjCNsMru2UpvBvBR+wtPa4lMwTCGdHDafxbdR0dJF6Ojp2dkYTbjJuXYs1Ld8jI+vScrlaSDkDdYnSSPpamCJpdNRz8vGNpYddlU2MkchYSJmBcOsIkwzHJeZ5qU6bSBxMc5jg5psQqbFM7VA+8Ao6mCQc2Vv4qN7HOLeVjblrcclNW1jXuaGx5bRmpK6uP2uj2BGtrf8w5eU1pYX8s/RG26knkk9I7S7SoKuaIjROW4qixGKXJ3m3bivKoWN50rUK11S5sMDXE3y3lUmBQuw3kayNpc/nHLolQR8hpYPiN5GFtqd2xw3dqr8Plw2s5N+bD0H7wsTPORPMHinnV4J4IzOooorlJNDQ03aO6/HgJ+jO7U4845LSJAaTlxMilf0I3u7AoMMrZtUDh1uyTcBqyOcWNUfBy450rr9QTODUO17youDdIBm1zu0qPAKNv2LfEKLCKdoyhZ/KmUEQ+oEyljGwJtOzqQhbuQiAQbbYhZZFW3LRO9atquslbrWxDsVupEda0XIMduQDvZVgtBpWgN6ggfLK2NpGZ17lTSQRxtiZcNGWpN1ISuvaS3S2bkJGlSyxxR6b3AN4iBtspKqJzbwFr7GxNtqjMcjA4EarlMjFrkZlaDdy0BuWg3ctAblohcy9srrRG5aI3KOMEvf7R/JFllbiBVdFJptq6b00YsR7TdyZOMRhdG0aFRHzg32h1KphgniYxw05QTol7cuxDBsHq2nlsOpy76wLMwqjgTwdm/YtDuOIU/wCjnB3+imqY/vXU/wCjRn2OJu+8xS/o4xJvoq6F3gQpOAvCGPouhd2SJ/BPhNHqg0uyQJ3B7hI3XQSO/AqbAsfltymHTm2qzV/hrGP/AOtqf5VFwU4QSasOkHaQFTcB8ceee2CIfxPWH8Aiw6VXXX/hjb8SsMwehw1tqaAB3tHMpwWJUcdXTmN2R1tcPqneqipkkElDicIc4fXBz7Vj1PJTT6D8wc2u3hHohE5hVQHJMR+bg1hSHtRtpHUqfCqZrnN5Bptquo8PgByhYPBR0jRqFk2mCbA1CJoQaFojchbch2ILwQ7EL8XirK3WrbyrgK/Uta0StSDkDdWC0VmtKyDrrJaLd6sAqnEaXBMGmxSrzANmtGt52ALB/wBJcU1eIsRoW00DzYSsffQ7VT1AMAs4OaRdrgdYTnEy+CDyFwirpJa6SldI6JsDQ5gH18rk+CosQ8po6eoY70kTXWvZco2SEsk57XCzgdqqMEYH3oqurpwdjZTYKkZJDA2OWcTEXGlo2Juc7rTC0grjjrcdpKWV0NSJoHA2u+I6J6wQosUoJTeGrpnHZ5yx/NedaGmWB0elqubqQ2blrOQQFgANXEW3Tm246+jdygqqU6EzTpZKprafkXVR0Ypm+kjO3+Jv9E3FqZ5ErZHGXeRrCpKiOoj0mOvv6vnEItG5FgOxOZZUeLVdVNM6HDw6mjkLNLlOcbdSpqiKpj04najZwOtp60U5OXCDD+Xh5WMedZq6+pSwxYpQGllye3NjvZKq4pKeQwyt0XsJBCPSCncC1tnEo/NwnKjPaVa5J60Yw2eN1uldpQaAmhq0QrBWVuKyCFlcK6us1dAq6srdSu0blpt9oLlG7yuUG534LSvqY5Xd7H5oaexo/FDlP4Vz1Z//AIFou9orR6yfFaLev8VoDev0p1EnJ4XhrOiGGUjeSbIUhA57vAL9FOLGpwp+FzPJkpPRk7Yz/RD0juzi4T4VNW4vQvge5jZQYpyPY1p7IoiIWxlrGgNbo7lBlE23EXc9g8VplaZXKISLletS6M0ZY8Bw6wn4FQTyeepYrbbDWqakZTRsjjkmMcfQY6QuDexDnS6WxuQ7fmFObuR4sRoGVA0m5Se9V2GyipJ0ywDPQDfcqOsDZgYiBJ+T+3rVHUMqI9JuR2tOsIj5p4nBY3wemFU8sqJBSTOLjY9ArAaVmGY3TQw4n5W6ZjuUaNw3op2rilFwsRpxSYhyzW+bkzI964TUvl1L5fDGWyRCz272p2tEk/MPFhmVH+Kdr6KlaTCSNbed+CbmARqKbe6A61YqxVkMtquOLwXO9lZ7vzXP/hCs/wBofgrH2/yTWE/WK5Mb3fitFu4/itEbkGt3BaLfZVzdNd1WXYV2lBw3rSWks1ZyIffpIXCuv0gV0cuNRth58kULYj26/isP4OVFS5raiuhppX6o3XJ8VwWocR4N8K6N1Tovpqg8gZWHm87Vfdmh03eHGbEWIuEMhxfajun5wKY5Pdzeb0jkEG6IDRs+dIzaEeKspmVDbEZ7CsVwtzZS4cx3vWCV0zp9B1xK3IPIsHdRVHVNmZucOk3cj84mwJUpkP7ObdZUVMInukho4YnHW5rM1eW/SH8q0tNid+aOpY1Dp0b3AXdH5xvx/JU7RypAN43t1LH8PNDWO0M4XO5vV1cR+bQepI3vsQgNs3BQREXi0jzDYdmxCH+IoRAbT+K0AtFu5AC2oLIIHq4yrrSVzsQKzWmVmdYVitmSuVfiHijmrOBzQcVpK9lp7wtJG25Oc1jC86mi64IUTsWxurrnjS5EFzb+2dSpqKrxDHtBmnDDSuBL7X0nCxsuEVdNh2OyVXKOBbJ6I9F4vqIUEglYyVup8YcPHiBV+O/n/ufHjv8AMBUT+fpbsgmuB4j82WPaOOohZNGWPFwsXwyWCXlYtu1YfV8g6OGV2jJ9V+/qKppw9u4jWPnFMeNGzjYjem1UEMgc6Zgt1qeumnxKolLIoaMG0TW5vd/Ef6KndpMc8A6JOV+LapGDS5w5pCpMIxNkVhTcqxpOgWuF7XyWNYW59G6Kobovds9ncpGujkcxws5psfnUfqgVzuQKedCtb/xGfmFdXWkVcq5Q4r8VutAZqwQtxHt4rq4R7ERY8QWa1LSurbslonerrSKNzndZrEPUKjfyTvcuAxq4sJqZqPmu5dumbXytqVPVsqY2zx03k0tQyRjpR9m5vwXCPBm41ByTJGOxGBrRLsztrXB5k0ODUUNQ4GWOEMeRquEJsQhkl5enE0WnzHRHMN7FTTx1DNOO+RsQRYg/M+3HdPzRxPNm5a9ibzQBuQeo5thWRGSt82ojtzh4onilYx7S14BBWN0NIIvpcmjFqbKNbe1YNPUwuMEz2yNZ6OZpyI61TzNkaCCro/MxGl8op3NHS1jtQFUDbyYNPYmiqPTsB+CifeEDctMNTqj2QuU2yPGexYb6s3rzXCdnnXDe264TR8nir3DVIA/51Kfoo4tirjaFkv7t4d4bVqQOa28Q4rhZK4OtXCvxXQesuIHerZq2fFl826DrJzma/cgW/VufBG9tRVz7KeDIxzDazhZfopfE2fFcKlbZ/J6YB2lhsfyUTJC+pgZI1tK6pyDstJpHOH4rFHuhwiqklgML2NcLtOb2t6Oa/RPirp8ImoZXF0kElwXHWHf3TZ2E2vZ24oFXV1dH0zOw/P1y9TffxgqOQtKY4OFwjxBPexnScAuU0+axvi7JTxPZIQX/AIBaI3uPigG7gpWskYWPaHNORaRkVVcHacm9LPLTfwjNoVBh9XSZPqWzM7tio5Gn6wWk32gtJntLlIxtRmYjUD2VI9jjcwx37E8g6mtHY1OzVlXUstTTGKCcwOP1gEKKKNjbl0knRbpG+apeawNGxcJvTM7i4YstPC7qc38+KOJz9SNO/ZYrkJfYKLXDW0qnypht45o+Ugez2hZUshfTRk69Gx7UAVY8VytmtC9/mbFsWXFpZ8d7LTb7QWmOs+C0tzSru9kfiufvC0He1+S0P4igxq0G7l4IOO5Xy3ojcUTbWsXfJgfCqPEoLhkp08vwcFwow6rxTBo8Qw+oa6ndqaMlwXdVVmC1eEVgeZYedHpHW06xdGpdwVxCJrHiR5fp1DR7JFg3t2qkxOkxKnZO2TSFsns1+KidKBeJwlb/AA/0UVU09LJNcDq4n9Jh/i+c4hrSTsWK4nSYPhj66vk0GDZtc7cFjv6QsarZXNoXCgg2Bmbz2lRcKuEUb9NuMVd+t91wf/SVVRPbFjUDZ4/3sQs8eGorDK+kxKjZV0M7ZoXfWb7juUby03THhzbrTB6N3dilMmje9uxHI32rSUvPi628Q4jxVsWgeVZq+svL4w1/S0mGxbbM9i8t83pthmefZAzUM75HegeG+07JHiKK0VM+GEXlkawdZTq4P5tJC+Y7+i1U7JdPlqhwLtgGpqheQFjcolny1NFlw1bZsRHtlUzNOTNdB1rKJoOxNjauTFlH6M9vE1BU9mSzxbA7SHYf7oZ8VuIa+K+1XC0xsRf2rTWkVpOXOVnHagzeVojcrbuLx4rq/GFrWXEdSJ2a1juHMxKjMJOi4c5h3FYNjuKcGZ5aOSJkkTz5ymmHNd1jcqvhbFzn0OGx0j3NsTp6Srah9RM6SRxc4m5J2qlqailfp088kTt7XWWE8Na+mc3yocuB9Yc1ywXhNh2Ki2m10m0HmvH9VEL86nk0/wCHb+CZUkGzwnytMekDqIKHzX84tZvOfYv0k447F8fkhjf9EpCY4xsJ2u4msc7UFyJ9oLgzjtdwerxUUztKJ3pYj0XhYFi9JjVA2soX6TDk4HWw7imdZuuUzDvxT5GliKumlH5pAIsVVtbSvu9waw6iU2pp/wDMRfzI1dGNdVF+KNfRf5i/YCjiFPbmMnf2MXlkrvR0En3iAi/EX6mQRfmjTVEnpqyQjczmqOhp4zcRAu3uzKDLahYK7W6zdTTuOTcgpxkVwvbyjGBuyT4KGB7TcFMgP1n5JkTAMkG7iiDYoAhpbtuuTfu/NBwG1abPaVTI1tdDIL2feI+8LSWl1LTPsq7zqCAkO1CNx1uXJBaDdysFZaIQaN6y4m8XjxbEOIrt4wgiV48VkWqtoqaqZoVMLJW7nDUqzglhz84ZJoeq9wpeB5bqqXfyr/C5b0pCV/h8NQwgMIc24I2hYbi2JUNmyP8AKIx7XS/FYbwgpq0Bkhu/2ZMn+BTWsf6GT7r8j/RRyyxHQe05b1HUMdryKBB28ePVnkOCYhXjXHC7Q9w/NEkm5zJVPHpm56IXKxsyAQfHJkpWWGS4EY/JwfxlsriTSS82oZ1b+0KN7JI2yRuDmOF2uG0IHJX4jxSOOkc1pO3ouO9aRvrQfdaQU7YpojHKwOadhXyTTtcSxjSNxTaJjfsmIU9vqtXJ22tWiNrgvNoubsanPPYnXOspxaNbgE6yqNRWKRiSzbbV5IE6kG6y5AjUVou3J5KrI5J9FsXSBXIYi3Lk5fwTWt3IW3LEWu8kc+Mc9nPb4Jui4Bw1OFxxZK9ldAm9uLSXZxOusztsrFAINVlZaldX6uK/FZBG9lzjlcJoO1aIWirKyLUWo5ak6Nj9lj1Kam2gX7E+G+xSQdV1LT7slR4tXURDXHlo9ztf4rCeEVNUgRF+if3UvwQNPKMjybtxzH4604TQZ/V36x+KjqtjxZcoDGS057F+kx/IcCatrfrFjP8A5IZp50WiNutYXwbIYyevlkjccxHH0h2qbgjS1FPy+G1j9I6hJmPx2Kpp6ijndS1jCx43qZmtfojxs1mFPwqd95qTOO+2P+xQKurq/FL0yrolFXWkd6JKJO9Eo8T3tb0ntHijURfVOl2BB8j+hC/xyUYlmLg2WJpBItrN1aZ550h8E2mbe5zUmWSqDzVWDSmcLWsiw71Y7k5lxmE+EntUzXjYqIF1YOabDWmtGihkgecndGywjOhEZ6cTnRu8D/S3GPmWQCaM0QFt4rkhBXV+Lagigr8VuKwCFldX47rJEIi2q6vYpzWP6bM94UlNnzTdSQ7wpKfcpabeqHEq+hsGy8tGPqv/AKrCeEkEhDS8wSH6r9RTZaeYc5vJnezV+Cazk5QdJpbru0/BfpGikrOB9UyMXcwtkt1AqH0oXAfDvLsVfUyN0mU4uBvdsWNVsGH0DnPPnXnIbSuBVVPLhVfKXZiUaPVkq6T5Ynnw2ZodPALxTdfsnqUgI5rgQ5uRC4KYmcF4R0tbfzYdoyDew61cWuDcHUeO6up+nxHjuijxPcGtJOxS8rM67nuA3ArkWR0zAIZHyPB5zRcgpprLD6PHE32nnNVpD430klbz5CGt0WEhhBubkLA6N1K+mkiMskbpSHcpZpBPVtyQGfimDNV40SFXvqHVLIY+ZH0pH7ewKeQyzPkP1jdWVkQi1Pia4WIXIhoAGSDnjctqJ3K6pvNYjURbJWiUduo/BbUeJo61krha0OMhC3FZZbkeriHFttxDjzRV8lc8XarW60epbFe+ziKtdEJ4uMxdPhadRt1FTQHUQnwqSHquqSvrKI+bkuz2HZhYZj8FQQyXzMm52o+Kc5k9O+Jxye2y4RUbqPGZmltg65/qv0dllHhUUxLWySzFzb7dllw+wWqrwzEKez5I26Lo2i1xvHWuBmD1FLgksFQBHLKTKQTqGS4R+UYfwiqeSkLHE3Dm7QsX+kx0+KMblUNtLuEgyP45HxUwyX6PsR+UuClJI515IRyL+1v9rIK6vxTnn8V+IlEq6JV1UHSIYPFBqrJJmMoOSk0Gmo851tsf6hQiNj6Q6RY0StL2m5L7sv8A9wBWGVDSwsk5Zjpat7iJG2N9G6waTQZTxlz3MEjnacnc/rcI6zbegFiTGuEZadLLNYpI2OIjLSOSDetC+8LPcsrqysrLRRQKB2rEXiF8NVqDH6Lu67JWIWd0AfmCwWlZabty0nLTKvdXVyrq6CtvCG5EcY4irrs4gQFcIni7Eb8diiEWpzERbIfgnxg7LKWAjZcJ8QUkPUsPxSqoiGuvNFuOsdi4c1VHWT089NJ5w35SMixHWsCwuWfgvRVDW3aAfemYjKKWoDmkyUz2h2esHUVCJWYu2qju6B0XOzyvusuH+FiSHyiPN7M273NVFTPk4DVJIc0xVOmOzIFP534L9DNdo1Fdhrjk5omYOsZH4II8c7uerolXRKJRKunOsLpgudI8WLxOqeQj09EROLxbeoKCqbncvOkHB8hta2oIwDSL6iqBeTc6AzTS3VFDLJ1uKtKRd5bGjLEze8qvxANbznhg3KrlMz+pWKuUHLWiG7QrD2iO1WPUV4FFDUtirYm1NHLCfrNVHPy9JFN7TM+3bxBBAoq4V8t618VihrXir34hqVkAiFZaI2cVlqWV80VrVlZAXQatHLWrBWaiNyGvMK29WyWjtRaEWJ7M8giDe+op7Q7WwHsUzWMd6Rt9x1qR7c+Y9x7Fwgjyim0NHPR1r9FwbUcBg3XyUrm/msVjjo8er9No5GSBkhba99YTNOYVlOzTMUjA+GTVrGpeUw0+HxDENK7W6izSspqmhxDAq3yKQPZyThYC1ja6OpcBK75P4V0UxNmOfyb+x2SvmrrSAUkwGpEknNYnUS0tBLUQQGeRguGDan8L8Td0KSFvgSncJ+EDzaOmZ4Qkrg9LwhrqjlK+VtPTj6vJgOf/AEUdLG7pPf8AipoowbQg9ZK5B52KeB4ZfRJzzsrOtzYpD4LQqD9mB2lOilzvMxnYjFF9pM960oGdCIHtU9aGNu57WD8FUYxTg2Di89SqcUkeLR5daLtM6T3G/WhfegcswhZWGsIE21LNHPerZrPfx5hNOdrLDvNyVVIMuTk5Rndd/dNGzWg0IBWQatEDYgFYKyyQyQCstXGb9SCKueIoX7VfqTb7ltQFvm2VkFlxbVdGydLE3IyC+66M1z5uJ7uvUjyzgeg380+EnpOcfFOpm+yPwTmH6wDx1rhHA2TCpHMuCyzrFfolxcQ0OIYY51jJaWPt2hVj+UrpKqd1xyfJeCkifyVMaR7nck/MA7OtcKJxT4LUzbX+bauCVSYZK2H6klK8+ICcecVctfcZEHJcGMVbiuCU1Xpc8t0ZO8Na0kXI8V1zNrGH7qvF+6b+CEkI+yavKQPqI1f8IRqz7ITqx/UpKt+19lJXM2y38brFuEFJh4HK6bnHUxozU3DOVzwIqCzNpc/Nf4kZK3nctf2dSlrX1L8zYbGpjkCFrQGazG26aTuQPEOK9tiuOvi28W1TebxenffKZjoj26wmkg2Tcwm8V0fmXRIugVdXQPFfjt8yy7VnfqXUj1IcWpXV1fPaiQNZsjPGMgb9i03noxH7xXnDrcG9iLAekS7tKDGjUAPBWRaiE9t08G6njbLE+J2p4LVgNScOxS0nN0Xcm/qCq8MxGqoHVtK6PRaHaNzrcsFrK3DMXaZ3yaD5LTsd17V+kKET8FbxtaOTLJDYbsio6ejp6OpqqZ+mHQhl73s52v4px5yK/RvjHkdc7Dpn2iqM2dT/AO6jmvkUXLSRctJF6L0XqoqooIzJNI2Ng2uNk7hRh736EEzSd78gq7hBFBFpOqmOdsZFmqrHsVnebVckTdgaoK+tim5Xyh8hOsSHSCdwgreS0Y44Y3e0ApdOWQySuLnnWSgxRssNZTBZMJ1prrpibdNQQ4rdSsgvBWyRy4gFi7T5Fy7Rz4HCVvgjZ5EjM2uGkEL8d1fNdavcK6cTayDbZnWg46lp21oOC0rZnUg4HolaTfFXQ4iOLq4igd6utLZdXutWsp0jBrchID0WuKvKfZb2rRcTnI7wyQiZ7N+1CwViVooABXGxFG1k62xFSC+pPDtrVwnpDDWtq2dCXJ3av0cYzHV0M2B1MgE559OSenbZ2rhVhjpKlzZKcsNua8KE+U4LHSzvDdKPRJIuDlYrhH5JR2wyhziiOlI72n/2X1kU0lpBBII1FUfCPGoLaNfI4bn85N4bY2Ba9Oe2Nf41xr//ADf9NHhnjZ20/wD00eF+OO+1hHZEEeE+OOPrYHYwJ3CDG3a65/gAn4vi7teIVH8yqJqio9Ynll7zrrQWiNiDSgEGlNab6skI+pCIJsZBTWncmhNHWm3TUEAtFWPFYdnEEdRQTU9ocxzTqIssFeTh4id06dxid4avyTPm5nUm3GtFbETkgNpV+INJTRooD6yyRV1cK9lpZK6ur70XsGp34LScdUZ8VaQ7QEWNHTe4+Ka1mxtl2lWRCHFbisFZW3I67bU7JWRGepOCxKkjqqZ8Mg5rto2dafHLQ1nIyOMb2Ou1494VHw0rnUfktfTw1dhZs2p6xDhFO+AxQRiAH65N3eCqH3PzGBNbdNjQZnqWj1IR7lyZ3LQWguTXI5IxkDVdCLLUmxoNTW2TRmg1NaEIwtBBnWmi3WggLnMJrbbVZeCCsNyGviCBsU8m2TbqhJhxeohfbz8fKi2q4yKBsgdqBzV1ndNO5OvtQKugOpHwTRksgtPLUi87irkFNJWvi2LTYD0gexae5hV5DsaE4Ha8oNZ1XV9yDzfUs3INThdWQFhxFXugs1nt4jq1oDrRAR0exWHWiCTayfHfWsXwqCui0Ht0XDouGsLEsOq8Pd5yMuj2SN1J8t9SzJRz1IRvdqYVFSvUdMNot2JtI61xYjeE2nO0IQLydcl1Lk+pckuTtsQj/hQjWhsshEhH1IQjcuSXJ7U1qDUBkm55IAIAKysUChYqyz3KyvuWzNZZraEc1iV4aikrdkUmi/unJXCCKKJuE1x3oknUim7kHWV+pX4h2LZuRkYPrC/UhKTqjf45LSkP1QPzXO2vPgtFu66LrbFfPIKzjtQZ4rRzVgm5a1qQKurcbnHVZAoE8V148eSe1u0IDLqVkbrR3hSRMeLEKswKhmdc07WneMlJwdgHRGS+RY2HJqGGgfVXkVti8ltsQh0T7J6kI79Jt+xCnaeib9W1eTkbFyPUuRuVyC5LqTY7oQ7bLkiEI+pCM7E2M7UI1oIRBBlloLk0Bb5gCtuQuFcodiCIW5DUgQbqrhbUU8sDtT22WGTcvh8TyecPNv7RkrcYK2oX+YXAayuWj+qC5aUl8mgeKs863nwXJjt7UG7ggdiBzsroNN1o9assldX4u1bVnbJBx261pZXRN1eyuOKw4srI6slsRWxa1sstSyvpIrWiE5icwIxglGIIxBGEbgjHbYEGA6wrEdY60GMdlqJ1J8FjuXJrk1oArk7aloA6wuT3IRrQN1o70GrRtrVggAtFWCAVlbi7OOy//8QAKBABAAICAQMEAwEBAQEBAAAAAQARITFBUWFxgZGhsRDB8NHh8SAw/9oACAEBAAE/EBR+Afg3vH45hf8A8V/8+s8f/BD8b/Gfxn8fH4Ov4t/BOZc5/B+OPwQ/Lkh1f/Wf/gY2+J2BO2ju9pYLzYttydDTvmFrrHtr9/8AUoOKhWcxo4jLtfadZAQnogguIx1AAYYxqU1FX9JWYKlZHR9M7Uq7X0QD+rEsPmCUKHEo/rxKxB85yf5ZU7Zy+p8FDn4mmp0IRUqBKbmBKlQDmMeEqonMqV+FfhUqVKlQJUrETpKlSpUqVKxAlQJVypUqVKlSpUC5UqVAlSpUqVKzKjNgLIwLq3lcesBRWOMPAnoeoqwmSgq2XheP9YllZODoHY1KrnMaMxHMMLuMQwehDswdnyYAf5phBgg11/CVSr+GmUT+M4nEf+EJUxuC+p++bvEPZ/Umls5vWH+XmVOT549ID0EPiqU9a/BUCVKlSoEqV2lSpUrEqVKlSpWfwDOImZXrAWHVKlHSVAIkqVKx+PECJKlSpWJWZUqVKlZlSpUqVKlSpXaVBNBL9pv6JL6Dgc2eIaeh8IK9h830iW+90eT18doHWKXgiKdEId4jfNDf+IyqTSzp3hgXFI1z+mCcRTvP1/GVX9yhAF4f8pyHH6mB2iZ/7YcOYHtfUlQnumWTH75UPbz+ofYQ5J0h1WgSpUCVmBKlSoESViBKlSpUqVA4lQMSsypUqBxKlSpUqVKlSpUrECVKlSpUqBKekqVKlSvxUqVAlRbhcBtHFHawO6RW2zyVc58qOqWYtfJZ6Pn6X1mAOJnkirMqLcTmVdtb7Eo1Z6J38wX/AJWQziFA6/YhnGYYf8wQ7In8uUCGv4sQHp/qHDzB/fzDl4gdDX1PxdA/r5iQX5/1D7CGmeksLplSpXErvKzKuB+KlSsYlQJUouJKlSpUCViBKzKgSpUolSpUqV0lfiqlSpUqVmVKlQMQJUqVKlSpUrrKgQaHIDhny/XMImaA5Gwdrw8l9ISo0F+XgeOfWL4Td1/yNblHMC2aIUQ8NZUviDOho/7AwuD6lTj/AM0q4h1B/wCyHvlb/wCMTSE9Z9ph3g4P/KHfwfqDDzM/68wYfEHsfUlTscwV/Pl+NDu/1B7KD2pi0QMQIEqVKgSpUqVK6SsxIEqVKlSvxUqpUqVKlSpUrECVKqJKgalQJWZVQJUqVKlfgJUqB+alQlj0N8Y+SbimLE8vFqteXYgBC74FNU4Br3jqJYlwufX9Q7RQQ5ga0TQcqAWZYGMEHWZ/UMSuH1CATj+H5OWED+jpKnvT7SrJ/e6Q+w+oMU6zOeOXiDLX8n4Cohr+/L8PAul9Q/KpgjWj1thyehFQJUqVKlQJTA6krmVKlSpUqBKlQJUqpWXTGZ5VKxKgSpUrEqVAlSpUqVKgfipUrrKlZlSpUqVKlfkr50G+NziZXZtQj7DtG9GCBwGAKK6A4Pz4hoBW/u+rz0JgCtQmz7mTQ+YzEnuRVD9J2IY4cj4JX6/8oYHb9SmrAZ3D/TxExKcpJWIeHl9pUxbZb6mAdkC9GZof1abPESs/8kcFqEeKbrpG669d3Z1aeCEtV7r8QABWENONcQJUqVK7SoHSVKlSpUqVKlQJWIEqV+CxHpCRaB9YEqVKiQLlSpUCV+KlSoEqVKlSoEDEqVKzKlSoEGH2V4RcnBE73AefKubot1wcsNY4DQDQdD8+IJAKPQ6H8qWUBWltXr+FHZGR7Pl7sQ4uy4NY1BCMTr+CH2P0TgeP1Co/i5SBqf5UTFTt1UCFQZf6tPSA9d9T46fdDGWvAd0QqTyjI2L1+kM+Le+ZhhMv6cvw8HfPjpvmDiBKlSpWIEqUQJWJUr8VKlZgdJUrMqVipUqG7k8SuZUqoEqVCVnU+4ErErEqVAlSpUCVKgSsypUCV0lSpYNehaGqDlWgO8Y6S1QMWc93Ro5YYAhNAMdg/MXSRwg6H8qZW5FotXqxUXxK24z2VadHVhJF5FYagf8AiYlEvT+7lH8WGcTx+oKLj/WBmH2PoRiV/FkiYlSzH+iaRb4JQMLdWy0Ho1iVFHqzPv8A2oQXiLwv1x5m4naf+jHvPkZ8FN8ctSsQMSpUqVA/ASpUqV1lSpUrEqVK7SpUrtLlaFSjVjZAzKlSpXSVK7SpUqVKzKlPEqVAlSsypUqVKJUrMqIpcEAOrDWOJod2zf0aM5gt/AUBjtDl5i93SA6H8qZRwWpyvLEFMPu6S/OsHXcwOhVlOYQlbMpPt9SYQF5/TP67ie1PqC/78MfERwmTfiI4t8EUkBZt8wF2vTEuvB1e6JiHN3QexNDcGX85TZ4g4f5I6qGH8XdHvK+oguk4IM56fMqVKlSpUqV+FSpUqVKlSsyvzUrEqWBNjcAJrnwypUqVAlSprkxeA8TkLCQQSBzKgSpUqVKPxUr/AOKicL0xtquiPl0WANvjp0O7gxcgBQD/ANjzFzngFNaP5UpJSFUtXlYpmEFGXtBiD36P+wK22krtzC16lGDh9Sijq/BKILd1T5Qf3cQcZwaO0atgtV+GclnicCY/VOyN/ZsjM2ifEVFB9iDHlMs/5UGXiHm/9SM0TR/WWM0yFw+3MSsiq2PbMq2ICvMQX+FSpUqVKlSpUqVKlSpUqVKlSpUqVK6lr0ZdHYPklSpUcoLKNR2J0x5Yroi7GVmVKlSpX5qVKlSpUplRI/BQW1XRMlwSwny06vmtSuBINCHwdXmNAvgQ6H8qIpZVaNq9WJmWhZgCHuYVx2eZT5yW94YAGT5JXi4fqAcX+UOMv/nA9gPmUCqtZjlBplW4MDwJZDiv2npMrePthmZOj+k0iQScSh3K/MGJXE303Mz/ADlNviHF/VkZbEz+F1SqXF9lPbxD06MX0uVHzT0M4nfsSvxUqVKgSpUSVKlSpUCVKlSpUqVKjpeNMzLrnQ7euT2lRGgWwfI6nEaqOOpqOwypUqVKlSpX5qVKlSpX4qLA2zQi1XgCDOQkI38vd4J0gNnDaffKKm9JHp/MRtWqUNq9WOg1EUrHAQQ5MIGuxKWBSxzqBjTjx2iYKP8ABHHW/wDCU4s/qJq9JhB9T7U4W4Cj4gkG4b/tyRMQ8+uElUvX6J6QX4X3BhOF5Z/Z6pv8RCv9WTj8ZZv6tEBiy5oCzmjj0hknVd1GAlkXG5SCBAlQJXaVKlSpUqVKlfipUqVKlSpUqVGtBS0b6H3lyHLLR7wCQwoHiPLsQSrRnp6D81KlSpUqVKlSsypUCVKlfilmcWbhjtjCGq62vEILyU9QPK8wp+hER/KjagS0tq8qwAsr/a4gMcl8r2JsOED0ZQwdjtKcH/hNSucUH/qoa/swQf36xpCeb9k0zoHySqJo90tJmKdfQmnpMlqTqN5ev0J4IbHsfZNEA9lnzvsnwIXvfsIzfqhdH/ol0poGku6iBxBUNXQl+GBK7QJUqVKlSpUqVKlSpUqVKlSvxUqVCY5o6So/weE3wJ8niAU1o0QmUyLuDtepctEVZiNkqVKlSoEqVKlSpUqVKlSswLaja2pCjljrkve9EAmfllyXyuYfXnZj+npLBQWi1XlhBqDhtfEGyNvJ2+I0FAQVACqv+0o/owyrH/5QWXT98ql/ggof4qErrH1Pwj332zQOUfCeZr9z5zRm1eHGzHE9lJIS/Gvqcam3XH0Q0Rpi3BXdt+WLPxL18oZnRB679mMFl6fuYviHKUPECVKlSpXaVKjAxK/NSpWZWZWJUCVKlSpWIlzlepiiIZMSqcxtChSQYprXUgo9dAXqp+JYdnHQ7lDg49JUqV+FQhJVQJUqVKxKgSpXeomxjnNFByyX7dZre0POzy+XiMl64Afz0ioZlC1eVhhNzHl4PMdQXFef+YCuiDXRivxAD7/tKF6fVDQdv1CWdPuTFv4qGi7fqZ9lQKf4l1/fSJ1qVyb/AGoMobW9H7Td4lFnYPtNOdQ+S+oym3n6IGIsnE91+0qJ2iSWbmufZ+4IL9L7IcfE33Fpx+CUypUqVKlSpUqVKZUqVKlSpUqVKhudSYTQi/eYJxeP+uYgSpUrMr8VKZUrMrEqV/8AIK0bjwIlLDAJheSjXnX7NhKry/gjB10DIP39NxUg9otV2squL7oeCIuqwqmVe2Ek07TPhVmUeYxij+HBVnS+IQDoH4EZ/wA2JiHZPZfum+WtTYgsuv0o4GZSGrP6nVNvicj+lhgP7OY4zL1dfpQ1DmneCEe1Fe1Cq5mw3xB7a/P4fEHyTVniZOehKgSpUqVKlSvxUqYlSpUqVKlSpUCViUhac3xML6xbqwUPX9iXP1fpKlSoEqVKlSpUqVKgQJUqAJVUijQ6nGDNeY3oLbI2nlfCX8KCMgeXqv8ArG0UVFqdqyrmChwbXSXuIJq9uLthFilR8ImL2x9Q2ta+pA1d3Brz5WK7Q5uz8x8vDTPE3v4tN8PtJ7kPhHMz7N/ggye083/eKy2ug/LNXM9l9sN1DjjI/CGsTa84GCvEjrwR6jh9sFxs9j8iX9HCavEWU7nECBKzKlSs/ipUqVKldpUqVKiSpUCVKlTeqkMFDTL1eZj6H3B2Iwfmvy/mpUqEqVKlR7MiR2CbO+IwdtNgHl6/+mOxFWtTtWUneVmllfLr3iwRUtfaCUxY/CUeFgH92IM3YfCXrrk+CZl1A+SNBLK9j8MdU9UECZJ0+2AV2YVvDTDGiLtvA2xIwXHrQGvBc/yLJ2lLf7zN/iZ/x7m6fyuiLL89h8JqOhe6aX8VPjRYOn2MQm3k+piXZNIM75+h+DZcdHPH4r8VKzKgSpUqVKlSpUqVKlSpRKgQ0uRPMQ3ei+WVMe4J2hP5Sv8A8wAqVKlSrlTOVhowTQmcxXQKRDtafuFNncO+G5bFPyE96qI2X0wZgPYfMpidcU+cFHmfUo/uxDdjrPhDfb+6AqSmA8JkZu4FkIxTNUVmK2hKU3OqHkD7lNeBgVGsFzYf0O90qBXNa/bK/EZ2dyh7GGu1xzNT4Bt3/Ea0tsyjazHxT+R3g9idXivqzR6VPZOH0hsuv3ziOuz9UxP+KmQdpUT/AAsriOjy/U/odJozKn8UhwmyLDx+eP8A4rtKgTn8V+a/BKlSpUqEReoam1t8Es8A9Vgc594nQj/hheFfMC3AW6gTgrxHiEReElOpLVcqVKlfipUr/wCraq2ukYAXeS9yYQIGSA14h19/4ICHX98xt6/qGg6fVHa/ziOjp9sYbK4jJvT0g4IslgYxrsf1H2lnsQKMitWHUaFHlyPrZm5Luh7Uh9JWDQNpu+YbVX030QHFWQLZfohOr/aZ4WJwuh8M3O0twblumT7CGDbzDjUR/JqHB2/U3mbfFP3+BBWF/TMf5MTSe4/AtkwFP8Z2nvAOkfwEKucwwf8AyfgLpKekrtK/HE3AZUteIgPqvT/sLZqpYxLifzDNuqfwx7ozTEBzU4CnLbBTLRLeFnOzDdxyRnHMF2ldUQR3IJzCuv8A8VMu6++H0/1wYP4pmCG/1MNWcH6mT8shVDo/pM+bECFWgQPSpZ1S+3/UyaiKgvq39vwKzH44+SZBs+zH7LDn7D4nxoeKLdmO/wCjLNILzfwzjc/gdJ8P9RZxHi/fGezf1BXi/UWIsH8XDQnR6wwX/FiG6ScSp3hgpJKePeg3o7wdMqIYiQi7qaCBuT3hU6kyOIEHKF4JVxPFF9CB6QTTBH/EDwTvDpKsxo2Z4T2fhgHdfieshCxEUZupY4gOAjEAzbLzKstqHdWdMe+iDso6xAtWxOCUL4ljbLly4v5nMJfb+2Bh7H5TF/4qBQdv1Njmz5TJ9oMf4Ov7mKpi01DEsYgBhP5wfmYJr0d/Bj9aZNWArlD5ao+RHbnR/cJTnKI1mgZzKsrc+ffJj42PgS970PhPhSi3T74agsb4vwziOvO+piXFPqIPFMkOn1/Hyn1MB7fqaTKr/DNDmdCKiC9T5ZW1c2ThhVLRvLbXHnc13BcMHyPWDYXBuNb0w+7IMqqo2izN6HNp2lm7InOSNumAi0sjiYh8cwB8IekuoRgnZmPWfgKVQRL2I61E+WIJiFHfeUGogcRgEh0MwZTlgzZkiLQxUczQckecYBgZabSpfCp2i+hQLfp90Zn3/aKtO8FM7Tc6v8pkvQnyinggNpBZ4uBu7gnwRz+u3fpgG2dUPkzhB1X+cBCi6T6IA0tdpW5S9Sj+pfCGtWIFXjmz/FJtgqnp+k3z4z9xyTL+W34rY7tMR7EzA5lzsv1jLvmfUNB2TS4ynrA1+PoTx7s/gTMNHeJZFG4g/wBwvDGKbmBMJkhGRLl3FMhNsQQ2OSKWXejBsNy1wDEzVka0WwHcS8sAm4N9U6iWckFtgLXCnn6+iIWZyES1UaNMXnZqUM0wLsywh8xT4T7jsMRjJuVeJuHdLNwOARM1gbI2fgRkgdCPMrzd6RBbeMln4v6T+p1TMzF0fJDTm31V8or7X2xtO3qAwiYgYzKiSs/h3LB1R8YaPGP1zMO0Af20/Gzbu+ibvE+IfDNJ79vy/Cx9aQ0TtN82YGbvR/U1exN0Ki9b7hqLc6xp/HbASxs7RwFNzPVJLO4XbA1iPiI43KbqCY3KbXnpFDU0MERNpBDkgXuAYROje8CwB6xW5oSdxgNo1LnXkYhCKvpxC7sG4oMRaAuusAW5crJ39BLe427gw3UMBdywU11i6NMT5CGMXcuNyyuGDCZzmbl15gTmFzHxgXskqhEOiLZv0qJVRrRHAOBs4g43ekVl0/dMn6Q1O78pw9S+ExltPKflmbvARhxN4fgNQOIzn8JHQdSgcDj6kRJ79/0TJkHL+gmybnjGkyxxMLzK+yaCdWUX7PpGOpMfFLWmRVw+mGu0dE7zgOH2wuS48cRfajvBazxMsByrmZAANBLDtBVRyBfmUNrUj1MIyZT1JcyB6RBSROoEENpEOkS1tftEf3RK3DGCe8adPeCVNeksaXeIXEhB4BqBF2+Yvw53LlrEAbyb9CUnR0S43dQ8SnBXpUsaQ9Zdch4LmwMUk3um2AVS6oU2ACiCqLYxFWo1ySmtuXr1SdWFahHzLpPlimTE9YLS5Yd1DMSzFJsl5vYTPtSNPoP4lk+v1o6edJVlmS3wPhhBoJfx2h8CdY1kEFcD3h0HvBmnvLhESABVWtI37U7xAsG/vEyB4/GRydf1Rw81bntmS9r4TRZWneX8Tic3ofJKVOObX9wRhLep+ya/E3eJng/ow1PsnQLh9suFYxsYh2WcsyS8GKKpfQFQ+RzFMHiWLDbHsWilasvW4eEvWK+FeYPr3IWYT6Sw/wAzpAgAbbDiNUNvMoivaCLuAaxlBe0QWlS44i9EZV3iUIXL9R6BLNtE9MTzUehB7Ic14/UkDYI8zIFkpjEPWLS09Viup5lJtPWbVzxAOacJTuRTKE831jXmWVVmKbjId0Muz9kZl0SNCcj8JgnZgBfxUOTvJep+c/5A6o4jn0jxcPgQc5iir1ExSvlWW0Yc4BlZksxHcNfRQF5nGfTcIxsW98sonevtjfM2/u/xb5/bNkObn/Cas3Y6T6jpzPeR+E0idOs5+q+iOme6R8Jom2ZhvL7Q1Mj5mrPH9x2sx6zM3dxZuiA6ECWqIdGQOPoizoekycGC2oSpTriKu7sCMKNwvwgBu0r0iu068KlCwpwsEXbCiNFr4hXLHiD2JaqIK6UkU1bcAgwKp5jodm4YIq75ljbXvCrS+sOo94GbZV2zoX7yvMKsQRL4gTxMHUoygDiWAajc4iqqAjNxDWJWmXXDGco9sseopZvF9x32fvijS/8AeJX3/UxP+aR5O18JgsBfLOhpMdYu+Md5ade8HIe8YOsvhyHU/peFwIYx2OIn1mfv+uHLjH0Jse8fqfcmfrm51f5R5xWurX0TdGPZ+0jqLHWn8w1G1m71gsxDzU+j8GyukzEtrZ4nE0PMrjQ4wJbg7w8aQE0hax2qXME4Ljim1jKRTs3UOF77INovhgeB7ylKpdJ1HEoQnCKh5rR2ndYScmK8tsFa6wHAy/FQfaBaKtdTYZRCtsqdNRWsEoa5h3Ygq4z4lpgnAtd16SjzHR9n7n8zrMeZYRmfaPZiqNdZiFxdIC6HvA6How51+WFFtGNyjLDuO1bKOROcxEMqVtxKDj2irf0lZlPMf9MufqQY4sKoVx6mYJVzwfNzAO8KD8kvRPVL/JTfPH9TWg4liveCpNIHvAu2DPZ/LAIC9v8ACCqPRP6YVyxyoU69oeGq4ML43GUK8FIeMQIYTgc8nalxO/jSf6hq+Iz7hrNGBs28JkAxfMF7rZsTn700eY7br96KLKvP6ptmVXH2EbqZBeWPEzPmbXX74+d+s5KuaQa387ThMV4hLDVKvSFsvZ5hFXsESkhtLmP5Lb7RqZ+WagGDOYdiF3mlUp1dokwT2leGvXMQizDujl9BHpJitwv9ypavqmfB9WBa91DdjrAvD1mC9ymLKB7IC59UQ9CppAuW031yiB+4lEY0AcnWAb+WDGz1nkqKWXfUFwtcF1u/SAd+yK5KzV0ltCK2eYvg8kG4w0CNb0rN+58wotDwUT3CXZ+aW/7S7/SK+83vCcPiAbput1xH+GMNwEzVwekW8EYVv4DrCUNYsMunQ+WWwr0wa8/rCbRPa/ZCdBS8xtIQ0G3pAhS7y20NiXFciOD9wMSAdtb92nxG2o8pfRJXDTy6PW0pxtqn2KMoChNJkZvi+SW17zBxe+IQ8gZwjuyagWYDLC3WtTYb+ozondcxgtnMbBCbNe/WFr1BW9mCynYv8NS7qxWm9/MVONoR73Ahh9bP3NlZdK/2NQf0Sn3CxqXhzav7grpm91++L2Iseyhlj3v6GcR15IS2ZLWyPYPNRFtN7cnEYFjRpq7nCb+MQ0Pe+ouKjqscy6dKPghQb0639w2KdU7imetT6f79MOleUP1XEG5qU1ZvMIE8k44M7dKfcWaTuJWIrQsZMEYqIOZ3Kjy61A+qPEbSq6jOqfScmBOxEFpRebGYPKg+CbH7oa8a4TtMjF6sQLNBPaK+/cGw+pLGPRhzpam8UmMFfY+ZfeuxjuTAasB3ADgW4dDC5mDJV/byI+x7EEBF3PlMN2nZYU0NmYZQ9YNAqmVwLXi2zpma8esR6u13YnR8VB7t8RrDBeFALV6BKWkYD1f7zFanwvwBZ3aOzLyzt3erXgqOrlwW8SlnEvtjju6IYhJZ1ByfxiI2mWVyA5y9esx5Vp1fMcFzHOK7jEUihRs4MYmh7QAdFYb59YBCWD0YqzW5rMiwq0oOQzk4gV5qV2uDEDLfL2gFNgNR2NSsjIjER54jvkLf3Hvuv7mo8Q/7NOMYePA/xn0y/wA4y8Xs/UOhdACOmoTTgohbb5moie0PAZwLC/Eq0yCWui9+iACMGQUtkalTw59QgUbR83cNwk6wKF7Tc4esCAIvV/ZMPBvD/ubMpbRarDTzYMzb9xiagQr4nhhcldhVfC4uLOqbJnU6+4i4m5UeYChtOhM+GfMKce9ETBs7zMlIeZ6kwyJuqrC3iBVcfM+2AZivPv8AUBWKo0l7rEw4NQ3QUHtFVS13H0wLV4P7i2Txv2TQPD/zAK9coXj0t/qfNc05TcWv3DZf/HWVzOJMBuvcJUrxw/UzPR/1oIyDun2TYu63PslRYZdgd3eJo4OFwutLdWJkSmMylE1FDGJILw/Ql3aRpBcBbnV2634iwxXX9qazXyJMRV75LZYaq13LfmLAtCDSinzLuaa6iCbRQPy9DvH2RMLm6HsxtvggPZX0B9AdNOL3ORVx1SvgsYgJkfYYo7vDcJgC1SaWFZ3T9H3FdFbZo4Ptn1g8LQsXxJ4zEbVzFNENd0TtCiVUZR/z7mrhNaB/6MXOUrd9vyw9ppG/5NDt5mkYkl7TeSo7KgtqumfEJADgFa49k/AK0FsC4FW7mZwgYUJF9kUhcYeu2HkIotW45TnnOJlIpnHMEIr1jcOgHsERdKxWDC7r36NQaEVWlGPJOT1lZTXVUaHjlF0SUKcqrqieMwJTBKUAq0YttqWBaVd7BOjNriS8DyQisWYwyjS1M4dxEZ2u8Df2iAMgV+pj9RLHAvuXG5n9CnkEUvPlVtgRQveV5v7xU/3MDgUeJXFFwSlbg6r5T/2IHy94Hz94Mb+cC5e8B/7lrT3lOUe5OkvrDFVPiK0zxlAWvlzTt6pkPBnmVvtUWDi6tH7la/Yv9mwpXZ/sLUA7l+4cyK/rczLHkEo5lDLEeMzFC+yJGT2JZ3HWQHKOksK7HdlkuCX1CoNSjWZEswOHUbUbD0R6GaWDmjQdYC2KKCu369+O7qvGcrXU1a8rdtkQmN4H3OvNFI1t3Xn2lN/WQPcjeVg17xiGlWwyfoGVThDjRg+Ipyg4Q1plltahU4gIiwNxtmWzoZR8HpMhooS9Nv1KrHnoth76eLgwVAKAMARLhMauPb/pFxBWHdT9xW2K1Zry9IwEK4r8SyVU5+4gKjLOO8zzX07ywmlu8sGqi7qG63yQheSg5Ya6bPZDbfqcSsVvpiYQybIa1DXPAysrDwV7HRqx41LkcAZVjefEz2LCW0zDKlCuu8UJXVvmLtUcLpqoVd06M5l/oOPCUsltNEFYZb24gVmJdQzm78yqzllDfZgIFla4/wCwC5AYiXfMHvBwi/qZtV9I5SnoDLapnoRXJeJ+5UFK8f4TOO6Lv6iA3egX9y+DBy/+z1cAj5Inz3Wj6msFOr29pnG85E1RQksxoVr3YolG5xx8wqWOoSCQx6D/ACDUDwD9S9EPTU3x8L/2YBd4m5Mi7i60xz0VnhG+mrzDFwnNYn1RzQYyulBxsMPBfEwy50WjDLUFdUEC3XrSpY17AyIJw3si7Q2LYsRamAjottZ8VIDYMwvIQXFuKatqtlINC3fBp4MoviNbp23pjXBkyyvq0W0UBtcLjlQWDahaPZFQ4lfXiLYaYwAB3WiGZrbPW+695ngvfv8AsPmY1VvnBUCwZI/ELwGUdYh9FRy3KX4a62svyy64EPlcX4MsDEMCOHL4NHaMSca4+gxY87lBH9xxkJKu8G3z+LddC17wWDV195SsFDR5jQRydO8t13npLQzeek6hx2hR0cg6iYKXROYS0caiZLzqOUnnMTzQEeYHzhNtbX9hIWok+XeVOE0+8Nq/+kGr2fTLG+d+sXFjK+iLDn/1HksZx6QANrfMW8ajowGIv6kMgyBXu0Ss2xYoiWsHW/EcFZqpugQFuBUS9kgAGvQiGaO6Y6NVq6lO2jI3KnDYxTneAVscOW4VWYwEOXmUK0t7kCBIUClgRPHEeeERblgCLbiXuIChToRGYAFYI+YLgvEaXKHiJClp4IYhjwQt5CAn9SwAywa32lG/kUlALJ/woXE0un+yxJU3/wCiLyqzkVMtK+LEeQVAwMAFomhX+QBTAoptfECm8DdWzYC305yNOq7mJlp6PJ2SuXM3Uy+um4OWxRHvkzFmuM6Ay2F2Fe9RE1lBEuVuPks5tUFdVVXtL1h0u8f2i6rL+YFWDWhxl/XtK9qXRFFWZwE95cKlrcr1ihE7kjwZDP8A6RumZpfpADGvxGQCuoQDy5ijtkfWoAkNkAV0jYa6sp1gOv4JHJ8BGDzHuF8JHUKWrnLBA0ijokyTEoUHVXMeQF8zIMPdC2pbuENlTQMpavUiywLxERGqrXMGIq4rW8ygLyXuVJgplVs6lqsOCGYxZXEs0B7dYigtGuWQ8dJeK6/qZGeT9y3Uz/UTWq2PuZ8C3E4hridwS3unOzrbAugBKxBA5lS53+ibDtyZ1LZWVTiqmykDsjqxkYxEqoOM9fwnZWIqtCrmdxqsX3neOlk0CtgLW2y3fuNU6cqCB2LjlixXPS2ISkgVDeDMAy10Afeogqr/ABiBfJUPAodS35jxkdzFsPwZjfHEmRH6IPAPggOLrKuI2aJVcVKmvpDp1LOSUs3OgekdWrh6N0dWOelCZDar+pnWYiMvEuowm9l5agChugnyRqFjm73wR613Wt9mI+LH2sDjb9SykmPsPOUH1hq0A6AGCWLa/nubSr/csr22c/tTfUar/qIaA9BX1L3WPYQHaBwer9MOtBX+ERmV2QU+1KQZQpchsWtnXJiBgrWEFuT3/Cl84RlwqlY5XcgRffGD7TeCk9gxcqxFRcHuWQjFn8cTne9UFW22YL2m0vMYKPV6xAhzTZh8M4qcU2/Ep9g0LQ1RECfcK06OyoIo+ebHPgbJmI9avQeicza6Jn3hOfmNPtD9VWUxmY7WfcCr2/JFZTaD5H6jhgaIlYpuMBYdVmrE4IOemiygOqIkwO7ZqALjuzNXvklED6JT0Nc1KX6oHj2QZQMw7AAQRpETAQo0PiXu1XmZL+EL5ccTwPeFjdesUOJLMrZZ04LlS02vpBskBsebgHIe9wS7AZuX8TpKBybFocrKP1AtB74gqzqEpFUgrw1OQiwyQt5XRKxuU1FObiAI95QNmo8C4A6ndwv6PzN2k7KdsmTL2rzMGku4QMiNI9mD9+8fTMaRIhiAxzAc24qkyg08j2VhOHtBFMDV9VfDqVZjAgnpBFLXn9pLy1dUAe5DWl6Bv0y7fJ/7I41pqw+ybN8p9x6vTv3SkHYAAPQio0LxYqMFY8/voGs2219gYAp+aX8eJfVil7/Wcta4g+ovKHoTLgbcOgkEhhA11iM18suOqKLhK7Fv0jwnMefziXAbFXHk8+SLXANFtP8A24aUexlMD4THxAOiYCiHKq4B/wAwIP1gOqaUEEeqBrSBbogPX4mNbRvxfiW1hHLIZ6wwt+YB0PaJhVTQ49IDo+8Q7nYmgtTv36w5AShlfaW6qnRMLSyHMGDS22nE7peeAl38qnbSUydU9oSEi0CFlPJN4cft/wAnNMYH9BbWu+BQZOesPAdg5AvtuIDE9AHYw1rIl6Cx9UBnZKV5wcUQXtBeSWcj+UcqsIcWAjuA7NsNp6aZmL26QBavjsR6tv1X+uGawKIkLhEt0iTUQ4wTC3qd+3MJfPxLc2deeqWSZVGuIa39wYYcOV0YjeY+/wCEiQeh7Tkj2hWntLFBiYAQnH2RFelxkhsComwcMEDlgIGvK1NeVBEM5Ger44SK3ULrf1E5OhDFQHnUrGEarv8Ah2u5HBhjBgBHyfTN4es6YIWWkK8FQL2gBMNQBOs6yA6/MHZADVnUlqxqCxl8Eu28d2ANtzLgSWbw5gk2VAm4ci/U1E0G7guGSk8DBXL+uFGn4qZK07giTQO8YcoPVjhxfYlmkIEKbO1Qo5dCm8u6jVp6kziS7ygx4H3l4Ia6iSvRym1GD1Y8JBk6A+5cfNjuKZXxks81DJbaoAAFa6QU0oG6qWm4mQ4v4V+4BzDVcFF6sF1QMecWEHWd6A9mJdEDNHjB1KN1P3H9e8WPWMAmsSvOn4OYyM6xqFrmahafbt9wJ8AbaM46OhmWgY3HoyjUda/CRmW4naWGs8S/jk1pm0N55j9rDroMPq9Yows6iiYzFUqH2BJTT0d834e0PbHC3qeT6j38fU3jeI6/BBRpPwrbvMIXg+sYbUPVf1cRe0RPDmHqEas5QDq3CzLUtdWe8Zsa7MONV8TF5sfEOo2VbC9yUXB9YOij1l+x8KOtV9owl56RItbsycWjlSscU75lCj0iYKbBxRAL008LLDN0TN0Sy11S9ixcRxfpBZKlgxKDDHQWxWabfVhRq6M1dQfCZurGU9EYHtdwK0ti6DkqG5yOn7S4MChUaS4gAwHEGKJdE+SUfjPWZlpKY1jyRQ4W+r19NwrxQrzHxL/BqJcwUek2qMoqDFlFSxNL/fvzFhu2kPT+mJt4qbf9zKOSNzcY3H3hK3g0QtMjYX0XBH1qUeSpbl6df3AgnLT2eYKMEB21F10TrWnraOAW9tVX0kQAoWgs2/Nv4Se6KykZhOQOkue7UG2fhj0mkVHo1EDTAJkX1Z0DcxgHggZqzFMCpnkx1lgZCKs8QIuMRAWGOZd2ROnrBLgSZa57Sw+SNFqJCzATFoha85grfBELigalBhRlxocMsVdwuZMQYxkrVQkStJLnKqBrmPwFztWzgrt2LfNRCxd0G2E0N4eYJkDLYg2PhNYj9X42Fn3LmCEDB7zQd30ly8/gMuailZl6ev8Aqf1B6umJBT+Bh1iS4TzydYxZdjNPJEKdK1pP9jGQiK4NwrTeEnD/AJLExG4uJdkS5VKSyKYMFVVwTgs4uINYQ3eLovgQjZfqp1mVzdsOyGVFyzqdIGpSFK6jnpiX5alsrf0ZeGM+iNMf/l0VYr9xRV5dZd3rrAxMMdtv0vtC+IOscRQrmGDOIs4v0mTlyd4bupZxES9EFtcpTajwwfOCoCNZ9JZ4ipwoVVl3LDTdQ2X7xj0eJkAYLVVUVmGUNfMG1u+sKP6ohP8ArKUci4ULXHeKAiVEBZvVwwb1xBnDGv3xRwCUckR0czgPC5VV5OSHVAVIVhetJh9IpT2bQ1j2m5VSBgYXuutx6lbB9ARgy8QY4XqXyfi+k7y4sS4nUmvJgBNCoxA6pBtIYwFcQ1AlXK1eOEyVLmJsyM1EqHp+DqPnp0ir8Sw6LkY6wS6PRuASFlMrrEtzCqNTK4p1joCNN3lQPfRQMxcBa0KHUvUtnaEOG+8CUYrCdQNr1e5gtLWfP8QxlerEz8j/APVRX/XLW3VvWDWDKr2w9LV8FgAv+ZRYPSOA3uHWsRccdoJeNzm+JteJUrKUbgsKXLeAIVM7gNlNy+Qyzi/WAvygHBuDLXKOowMnI/EsMIy94ZSaJSaa7TDeIapcO6ZSU38pYwxW0pRteYHqnljghbxeEr9wH2aF3tB5HtHllw9HnqJSIKaOpKdMpkjnPuFytvY+8XtFvAkBtKb5/AgVzc7P1BnP4uDLxcG7o/L/AJ9y+Llpu5kgJHHMtxBAzBPkpZnR0m2ntt+IqcNlJj1uHL5CgjHtQT/0pDojuN+m19IOQ7DUuxq2hQCoaH/UiXGP/BgeFnA9zFCi5SzgH1QRNrWIcxrAl3GuTtfWWJikenVXu3Aa8AJS/GafMPB3Yx0sfcqBrXG7ahdvExMu47TTHyRFL+XBxioCiwl0BfcTM7V4WH5IkMlxqaqoqFG5ks1G8gDDZkT6gDlu5gaqCNF+JZQqVQz6wVpuotC3ClKYI5g5o4hsUI4cDBWx8EX5Z3oi+iO8U+H0ZYZ9JAdK/EUZtPLA9H2ihk9hLlq8wsr/AEZdm56aY0C7rO1Wv/X6xMM0HbbaaWz2iYmEzY1ro5PMx3yRYBKYoX5JDtubYjsf/GJg8tVaeVkh4FXXiA2h9Zcw6KnuJ91Lgw3Bg5mkIWzdh6C3aPl/zMvx1CAOqm/FTb03q+zZGgtpJ3r9CmaIPpp5DaOjAYfSZODrbByFTfA9YConpm+7KJt1OX3hG8t8naMRGC2VmK5ZuBw9Yr2ygaPyxKObGhhV30i8AqyGxet41+DCwPRikoNzwh7PiKdDmUern2Icj5R6J4Or3gpTyS4qw3+4SLV3qH+RURrtGksR6EHt+E0BfaC0QetkRVeDD3glR8LniHdt9oaYAT7N/RicDELLzHIziJi4NqxGimoELYjXdld2IJYTWIm0w7TJLGukCyAD1ZaU11xBrh+IEbr4YXIvdgZpMdAOkSk+IA1VJZqmDKxC8wt7l9Ik3EOUaPaNBzGtHUerHq/2AcVbMn9jpmYQSmvTmV3PWPz4syeBCJhEtausGmXK91bhYKN9J6YYPTBoeUOPlENE+g+rfpcdZ5vt5icS1PhIryMGXBhCi6s8H/ajxELOG15lKOwfgC8HV1MNoZ1HxsB/q+j0eIf6hh69pdT2ZglivnXtCheShGYOXiOMZEdJTAikplPM+JzGQWJSdSH03T6PFxJbR4xTA9LC8O136icl4tL94mzej/uQyiXrbPqDd+VD4zP7kUWxBQBrgi+y7AuDVXc8xFnDfMp4rZcXQes0rMMBmbJIgYKgQOTrEwcJZuI4+AnEDywJuuOCH6hoDt/YfM5NPjUu7TjhnAKGUHtHqqHSZR3ww5W4F4dogFHpEtEclvEB2TErZ1gYoCBMszwneC1T3Ti7iECmU3LGmC40luyovRuW60zAzGvM9UzTM+rMdfDKdZq16HZ6S0Z7xl4subeHFiWHsjURo5isrWJSeI4pwXQO3+4W2jpX2fMHsrcLHoO3xMungaa/fpMIuwwSwMGXHV1bO4We74jJFFq7WDe1s7wws+C5fChdSkvrq4YvqAmbvgnqHqcwRK2bELE9JrcTKP4DAlbcC5RZlRGwsQxkybj3oS18hiWxJunJNIXoQNS9pbgHklP0rY0xa+CDxZ5ZkUngR7BvvHKcerKjd+IxbWOYjQaa34lJk+JqWHmN0vOrsiDQmoGy0eiQPMZRdLiGE+ZNCkyYHSUiLneXf1ZFQqBOyWTAYiqvmHJkjnYGqmkIdYiN36yl0p0m4LrvGkznzExC8IFysXm2ZCGOoO7QPWN8CG1vpNkIu2nfAwS7GenvH1QW07gGz5isjuS3SJQZzKGtRvvEW4a7TkxXMv1RBWrBycQ5XvMj2ihVBtyrzDWQdJbejxAuwoyXwysD8+Hjb3uAhXCGH1Y9oav4lV+j1uBDW+r2+jHvUEpSdMSmUV5OCIor1YRf1AoAtcR7/hWNqzAQHykzk4HtUq5WNFXogtek4vP8uiPI8MIFp6ShYbVlHXweElT+dyikxkfgKpYcRitbx+AsvLMO8Vq8Q/3kEsIr7zNlujJkQ04BspmIf1MD4iqyurDiniColgJdRKHZqVNUah00K5shClW+IOlmsajQFlSajA0TpXOR5lFLTiXttkK7Sn3RrzAqNuk8QFP3csGueJY8PtLXa1LS7RgFrz5iETJGuAEvGs9pYCJcRTatQ5X6RC7q9Rb5LhfJuVHeYrObOYjN2JuBsrNwqhRlEqt9I8iiQysESLFSGfUgXjEXK16xc0ZmF4+YiLTMI59GUMF1CYaDfCcTmThgf8Yyqz00w7RhOsa1XiXlBM8QPqm1o6GxMEfFPQHT6zZj4hXnX2qMQFgml4yyMUUzAtQ38MGw1mmHkkNpb+FL7RhS4N/kh4rTHDeHxEOjBApZ8jXZqW7xXHem/EADOlWCHxd+hLAIFhpHTBsuMafh0uku2LpFi0RhdYsRcTW2LgXeOKgENCRgB3nnp4hxqykI+Lp6te8IU0w1qIVZiljsOyijWyjYyYg2xy+4Ab1qUfVkr/p5KB9K6y94FlK06Qs6I9OPSD4mHNX4jHA7QKIRug2yyL90Gsnma7WzJrVw3T7Dv+6FMa1cOG4mNBi3y5jxY4i2pqpfDhluIZpqUOddp0DUqzGGFMPWAFgYtX0iMRm5jC2QRoccRq8cRPaA8RUxjHMFOEesC4zDReScxddoL6vSIpSqV2uK1QPWLWmuIUCrwkYEcOOY3dO0dKQfM03ThdeGO4k9n51AqkfaHkrMbI1dIEGP/ickvqXFmTt/qGEsP1NyxgRxQN0Pf7i5pRlVwQ4yDDioVctQTguTc1EKjQAe9C13lvGSmED3z9TC4WJih8MAHoTtFubHXOgXylHioxtCfElxwpYufwdCOW4EYdFgzFVYgIyARrEV7p6QzVvFLm7oiI6oUZOtOaFCb4YvbQEtBwgxxAXaKTxcWxujqzb1cDTA5gUriFSjgGBuckDlbwy8DYnWZZMnaKDVZhYbPaVcoe0QN2e8BOudzRQxzMKgHfI9mn0ja5RpipgN8yhbC6p3Cky6KjjLk1KGPTMRjluF1a9bhZd4gDuZTCNcQwo3LKCvWWvOIWuUXAxCsMMs9JQFJVZljr2g5MAVFizUEcOGYaqusbVTcRq7eJjVBFOPWXaz4JkKr1jVLWZRVovoyh/qlvv0iNNXmDFPvFDVsvcDcoauzkmcrXUWQ52vJkhyncmSOuzPSHnT0jth5vcfqYliLp4pef1BBG/De4HdbaBizuDXeUgTo+Z0rH5lMym5s8d0+xgHSXFXT0GR9JhApXKe+egPpfZFmKYGXRCXnUBOSP5lkjUlgtGYybFuBBRVjSOeHGwrUqVWUtoAOAYe+U8pqt+CXxDgtViYhG6NzMKbq4iO4YA7mIrXUALWoE3iBmgO0wMl3MAp8RIK7AXMVnoYYIYRTtEXgGY3xaagptmHS5jw8fMYttLwGB7jDLbdcxFZz6xFFYmC4sVfmN+zGpRwbdJbhVVvMc6t8QxuHvUsDdQUatg6QsogLtfNYhdkU4MQSXbctd3A1MObJi4MrGdzwlWvMpGzfBeINVgjeGYhWyoMce05VlbjOk8JLAyO0Aq2+MkU1eorlUwJSp47zLo7wWCjOhbLSpVwAcYjUsSCWhyMtBDqKf8AJXELbq9nMIgIaxX7iqS7PZRyXE4DQH1fuHrhxQBTHOiN4Yg4cHtftKCrME/N4jQPcEFRZxqKh0tGBv8A+1Vv6o+koIdjEdYnywxM2K1ZZdIXWer4zHE6OKiXFu84pke3B0DY7wMsdarLXIbC2w5AgappQW14gNFPQQ4n6yCqxdEuHux8yvlDS7j4f7gndawx7xcdfd8xFT61ceDV7MotDk69pbdF+IzJ9M4g00JXMALodQgkI0Had0KqKWRuziu8DgXk7RuoC4B8gA7N47AY15PlAGcsC9bgqoYFfU4EGOCpkuVsSgmlEBs09Jgqo0xWJdDDMo4p6wE/9nKU6xNViJvHtLtDRxLv/kv1jG23WObTuUF2Duxty0SovWG9TDrcCjEM83KW83xOj4YDdrFY3GjxLGx6zxpuYL+4ioW6j7EaoTqw+ZcE8OURtX0HxAry7u0OfGj6P+3FMWE84c06cMKBaq7pXqYmaEpO9V9c/EoI6icvaOazZ3j3cXruP9fSLJyge6H5Y1DW9RGZvEbHiVjJxvWL3OfWXTcu5lGUQoiOZd7c7iJufZTQ3dQCJqAHmcB7k4w+8oYr6QYtbzUuta6H6IZDXhbvlweYRK7ZV7BiFgQ9AB7kvhW4HB/rC5uPb2kKjCqq63AKyjvKeWJrO53j1g4MesWN5qVeajVSnMBC2KKxrUQOrHzAUuyBQwd4wuneMH609Yks3u5yBLNQK0NeWUhePMLeZSrgg6u4re4tNZSWveIIGF4mh2QTyTCWa4gjuKOIL57k29+0OVzFwM/qJnGbjiU5NkylbEpq2uHeHVrrA7VEpzLDeINuI3cJ7wqZczKlIrdQSwHdiy/tKxJgnUCPNVcLfdmnS/4Ia+mQLp7zZdeGCug7QAoDTDDjoPMqJsl9yoBZt90av0QYcERvmf8ASoW0C1zanLkvcf6wivJ8ebh6xfKoU7YIueeY7b5ZmYYq4MwejHkJiBTWJ1WLimbj3zLOS5ywn82kB7xueNXLeL3ET2a6Xu5Aj+hcuqPMWVNSKejr0ikwFXFPA4lpO2u1fMPmx6zmDzH0bqGD4TDjdD8RIurJpVpBTjPrE9DO4WcWO4G+7mYti+8abRlnRANemoKFdcxtwF1iI7h1aLDdu34uDEhL1EsgBYtkLUaoil1W5g0c/EKU46xcUw6lvBqYVd0xiC+am8L5S0q7lRtXaMMc9dxOYHK2N3Y7e86nogNjFZc3zggc1RKvNzTbGIAtpEVhp6xjGEz0YigwHMpo0xU2FEydfSK+1ESYA7r+o1VbpgheC6q35mgBZwRZYp2leS3qstszB9InpjrLkuV7wciUajpsCmNkG++oKwKvd6hPUPjJ+z6g3lKNYUh7K81CDHqXNj8QkssWDAQznD6xukRo0sV8MesW0/gpYrBpHqQsHNUD5gVPMXt9mDlJfz/2YAHx/wBwDVvsIuwuz/UtA/gfqCu90p9SiUTJcDwMcc5gLQrriEespw4lK6w9p1X1MNGCBhvmEMuITqmIsRl3h1lRkvHEd1eO0Atcw3bTKXi2u8AqvWGxo9IhsikwOIsJcCoZl3OrzHZM77mdkmW/1Of4RW3eyVsWXYVLx0rcG6QxUXBymRTHWIux71KckrxHtVD4iBZdwLYnaJszWpeCX55lJouCtjPMCmLiBsdSqUtkKMiENXEyy5gxM+IWyGekcrRVc8TkjsLjq7vUJcsT2L+WMFj00+IAs1u2ZF5NEydRLyniUHTeswoNPipm2LKR1iWdPWbOo46QmByhtkFlnKBzCMF66l2+u6i2kNGVwPEzRQFEOGP4m61RQHfhe82gsCXDQweZeFrebW3y94GbjAtjoUR9iZMGo4B8oE3h4guYxG/hxKYUqX3RU3sKYWtXtMcsOIzb5RQLvHrK3mukpZ9peM8wuSW7CsS4MMMJHoG0QZKQAjD0Kab3KG3rDHG+8A59kA4aY3behLCOKi14jpCqzULqdIJt0MF1KrVR2/ZKSIKqpYFpRkYY5IuGBaDiKWC7hs28EKhquk6Fc4ILnaAStukHCWFbhxBeJcNnaBhy6iC8EyOe9woafaCcA7rKzI1WUHzTq4IUX2Fy3oXw19SzZbujeqVWaCUALHWDgoDmoRmppVrjrLKjUyHPzKMU32YDeoDhUtuqlUc+Ja4YlcoTOgi4Nhbv3nCpObisq0OseEo+0pZAcsEYOI/3kbL/AJ2iWrOCq89JQx3zKsN9WK1D2hBob7xFKN9ElgvfXI9twgzvqEAIkxgmOJQWiBDk6i9FDXiJvVTPVc9CKX8oV4LhdRbHSAtfEp2N1UC2VXrmYGArtAVQrxF/jmMmTziEAf8AyGyKnKIZqdgNuZkwYjaTUSZEhbWfMQOUj8Q7paKpqfWGSzmklWhmBC06hFjR93X8RG6L7zviemYVBdHE6gSpgEIygsybzKhYqtRKGe0MrsRS3ogDm+8OawNwvDA6rMWp0ZMA0DaIqFDedojczmhUOXJ1blGk1Bqs9sS0aD3lgW0leGScTh4gpVPMG+99CeBJkalFvmI3jJzLrULk3jHETV5ekvuPfmL3rrMjOvELHAzwzObPWYDK+I91xBZtwjCj6S5ajBSgzFIIXFQaTIkcMrpyju0cTU19a1MLt4mKsPSHeVGBBHnaF7o4P+MwhW8PZLmFjY8Rqi5TmEuda6TuPmDhUFclaxHIGumJitt4im6wRhntH27gLyYiMmJUrmFyqCNtPtsnUQENEC92Z4lF3VV2gJ1i+TAmmJUVa6uLGcoHGcMvO9QAFxVR1pcIycTZRm9LMMRsBQra2fiZFCzT9yzkxAEEl8ckFLqo1szKKXcLDJrvMji5oggvYtTiP0bVLDwraBLEu/Mv3C0BjxGy26M4lD5Vi2WSl7TIXRMcMCLtwaYUstz2lhq/ERgpg3x6xooF5jZQ2QUtGXkyBBZgOsTIKI4jf6l+XNvvELGzXSIUJuYG+Yuko5IlsqI1pubArqBg8RAVGqUiqu8Sg7Le84jVu4p6tw6pzepc4I4MWymF46wmgzBWVUAckDeClBAYKdLOvXcQ21DkfWWYljDmIMMRwGIEwSobQrckOax0nK4TcOCHTMAnVLTFHmK0DLszKEiXTTElK1KFsK7QtriWujEC7ylQM2veLjNyrLGzxKO5/8QANhEAAgIBAwMCBAMHAwUAAAAAAAECEQMEEBIhMUETURQgImEFMHEyQoGRobHBI1LwQENT0eH/2gAIAQIBAT8Ab/6m/l/F9b60/Tj2RJ+wiEV3Znz0qid+ohI4iQlskIosveyyyyyyyy/kvey97L2svb8U1voY+Me7G9oRSVszZ76I7iRQkJCW6FtZZZe1ll7WWWWWWWWWXvZe17XtqtVDTwcpGo1Es83OQyMUurMubl0R3EhIoQl8iF2KLLLLL2sssvac+GaN9n0/iuvzX81lllmp1MNPBykzVaqepnykNkVXVmTLy6IoiirR43R5Kp7LuLayyyyyyyyyyzXqTwuce8eq/h/8MWWOWCnHsy972ssssssss1GohghykavVT1M+T7Hg7K2ZJuXYS69RIroVuhbedkIvayyyyyyyyyx0+jPw6Tw5J6WXjqv0ZY5JK2ZPxLEnxx3J/Yi9Vl71Ffzf/ojgS6ybf6lll/JZnzxwwcpM1erlqZ2+w+h26snkcxIrZD3Qu23kZo8Ky5Kl2NZhj6VrwWWWWWWWWWXtZZr0sWSGoTpp1+qZk/FsPL08P1y9l/kjoc2ofLUy6eyMWHHhVQVFlllllllmXNHFFykazWS1EuvYfRFpLqTm5MSoorqJHj5VshmHNLFLlEz67JnVMplllllllllllln4xihn0/pS7tqvs77ml0mPSP08Xnr/AM9xXXUssssssssyZY448pPoazWS1EunY6obrqyU23QkLsULud92PpsuwhLrskLttZZZZZZZZZZZZNKeRJ+BU8t/YsssssssslNRi5PwazVy1EqXY4UT+nuSbk7EqEeNvO1dBratkI87IW3Issssssssss5V1Mfv7kH9b/Qssssssss1EHkxSivItFlh4HilDujUfVkdiR42RVkcU32RHR5X4M2mnhSch9hj2QtmIXYo5I5FnIss5HM5I5HJGR2+jMuozRl3MOeXoymx6mb8mPUZPcjmmRzSfdHMeRIWqh7izwfZnJM5HI16T1Et8EFPIkyGHEl+yJRXZHLoyUjXO8cV+u77b+Nq6iF2EhKXuVkIOX7xxs4koskm+gotDtDb9ycp+48rjD9SWSyPTRyf/O5yIzcepjy8l3FklHuetaJ6iUnQjDFUJV2LLNb1zy26GnX+ohTpHNHNEpmrlcI/xGh7PZdhdWedvAl0Ehprqj1GiOUUkzkNj6jRVjhB9KJ6eMh6QjgvTOCHorR8JJHw7I45I4GTG0xc12RJ5DS5m41IeaNWfEw8mpfLLJo7bYFUuns/7EcnQ9Q9QlkMruC/iPZ7rsJV8isjB+T0ZtnoNKmhYK8Cw/Y9H7DxI4IcRoSvwenfU9KyMH6bS9xQkjjIlFpFNiijJD2OE0/2iWNvvIWNryRjQ8NuzKqm98Ebk19mLDNDxTPSyN9DUQqlBdu/3f8AzoNNQjf3H8q7C28bLsZVxa+m2ypJdimUyU5cuKG8g5ZBOfsUzJkjDv5FFHFIjUm67GNKn+pS9iovoSgiWOLHip9Dj16k8KZl00pr6THpc7fRENJlXcWmlXVmT8LnKTakuo/wrIvI/wANmvJi0MoSds+Gn4aPhMn2JaKWOPK7ZLDLyjVQcaX2/wA7sfbbwQg5yqPcap090ZNRzabh2YtZi8/2I6jC2+onB9mhQXqp/qcPsPGvY9GP+09CP+01Wmg8b+n2/uj4WK8D0sH3Rg0kVKaS6J/4RpsSnKUfufCIhp5TzySdL+/g+ENRh9GPN9V5IaaTVyVEtDbJ6eGNXIx4HLr2QsEEOMV0SHp4PoZMUI90z0ov9lksU4kW5OkrJ4JwjynCkfT7FocYy7j0+KXdD0OBk/w/E+xl0E01wVpnwGo/2j0Gf2Pg8y/dMWPJii2ofV7ksWS3KSGeCmfFGbU3FpENRHgrHqIex68PYWeB8TEeoh7/ANT1Mfu/5sc8bVcn/NizxX/cf8z4t/8Akf8AQjq1G/r7mHNiwyclLufH4/dHxOHnyvx/k+Mxe5nzYssOPIhrcco23RPWKvpdsTuXKTtk5tr6Tmku5CVuxzd9RyUkRruZ8l/SjTvjlizK3PDT8X/RkYptIlp+vcena8iwSZmxSxGbUzl07Ghz8l6cu/glkyRZLNJ9Wc2xskmyelaZp8C9Rcuxzh4j/Qsuyy2zqdUrE7KEkNIooapCvycX7Cj9jizi67EfqVoclEwx5dyc3jdM9W0Y59BtMbpE8qiqW0HUkxJOL/X+6H9LHNN2N2uhBMywWWHBmoxOMrYri7Ria1OPku/+SSdOxdtqP3UZEqOu1NqkenJ+BYZHoyPQ92LDHsenE9OJxivBUfY6HQbRZZZLJTo5LH9Mew530ZGVHN+T1EeoczmjktmjTZFODi+5ng7uhdCM0jnf71FPxMyK19XUnpU/2TS454HaZlxrPB5Yd13X+RdVeyW0+xRwXhFHbe9r+a0NlljjybZNU6NM48/q7EqbtDk30t7dSMqfVWPJHxGhCZZFuLtEdTGUfqjbMmPj1XyOKNTp8cUpY3af9Ps9sU3inyRqcCxtTj+y/kltZZaLLLLLL2e1b0M8E7pfKnsxPdMRjzX0kZMfHqtr2k3QpK6saMOXE8Pp5X+hNed2cWXe17UUV81FbvsKLq32Mnkcr2v5LOQpFlkZX02x5Ulxn1RLi+3Y5I5InUhY0nYur6mTq6Q19O7L2fzX8zGt41fFuiSHi9hposW8Y8UPr3JR4ie0ZUyxMTGlurYkUiT6DtystoUr7lbLqUUV+XZY0n3HEcG/I4tDV9xJosj1aKOXshpNDVOi9k+gmJikcvschyOVEcnKVUJWPGhwaLo5y9tkP8mt62ezKKGkOLR27i6OxdV0J9JKI+7Mirqd9k+myLEKDm6RDSPG1JeDUuUp8pnD60yK8jGhwT7npR3o7fmVtRW1FDSHEeOhNqKojDo78ElbTMitC2tC1GLtZHIpdkIS6GGfpT5UT1M5PuSnKfdiW9lFD+evymiiiiiihox9H1JS5NyJXFxXuMmuLrZCIt+ByadDmKb7scuQp0KVlllll73+fRW1bUUUNV1IOLjRJ0qfj5LZzZybEy9qKsSaF8lbr8nuV8tbUUVvRQ4vwSlLyjky2dXtTOLOIonE47UUVvY930Y++y27brsV0KK6jPF70M7nnZMoe3FFKiikedq/Ie//xAA1EQACAgEDAwMCBQEIAwEAAAAAAQIRAxAhMQQSQRMgUQUiFDJhcZEwM0JSgaGxwdFAYnLw/9oACAEDAQE/AEWX7bLLLLLLLLLL1v2X7ug6f0498uWXo2RTfIlQ3sWdxZZZYmNiRRRRRWlFFFFFFFFFFFFFf0ei6b1Z9z4Q341jDyUkhlj08nkeiKRRXtr/AMbBglml2ox444odq03IQ8sWyLGMYtPI9diiiita9sId2J/KKKK/o1pRRgwSzS7UYcMcEKQ3ZZDH5YmMuhjH7ULgrSvZRRRWvRySydsuHt/JkxvHNxfgr2UVpWtFFGLDLLLtiYcMcEaQ3ZVkIJclngb2G7GP2vRMr+otjrI+pCOdedn+5QouTpGP6fka7p/av1JLpcfzJ/wiXUPiKSGUUUUUUY8csku2J0+COCNLkbs54IwUedaGizwP2s6rK8cdjp8v3biK9lFaUV7OhvLGWCtnv+zMf07JXdl+2P6kusxYF29PH/NmXNPK7m7/AKOPHLJLtiYMEcEduRuxJvYhGjwOyzxrdFnjTxrKCkqZDpoQ3Qkiiiiiiiiiiiij6TOWPqO9eE7/AOjqc8+rblN8HYlwyiiiiiiiiGNzlUTp8EcMf1LsSvZEY0Wcnk/YRzp40fsYnrRRRRWlFFFaUYpOEW0JtRaKKKKKKKKIwcnSOnwRwRt8jk2yKciMUtPOtCL9i9j0QkUUUUUUUVpRRRLijwUV7KKKMElDIpMeeMnyXfBh/IWXYjgtDyRT3ZLqMa8mPPHI2o6X7Fo+SyxcHayiiiijtHFnaUdrZBVs0LBBrgeGLzKNC6aHwS6TH8Eumh4J9MktmPCxYWx9Hk+CXTzjyhwaKFaOlv0o3rlk4wbRLqssvJLLkdbkW75Ej6f51fsQx6Lg7oiWL4J44L8o4o7SKog0tzvixdrFBfBCEPg9NPJ+x2iV9XX6CidhPFT4HijLg9CmRwRidtGdu6J2xoo6fbFHXP8A2bO1FISSEv0OiVJsv3vkfGiWx3MsVMcE+GOJRRV8lNcFyQp5ErIdQ4q2iPUxfgjlS6pyPxSsXUxPXRLJFnduY5pol2kq8GfDvaPw8m6H0c/Bji4QSeuf+zY4nadp2nSKk/ZzpZetiWxKPwh5IpcHfbsUjvR3oUvgv51tnqU6HmpimnlbZ6kXyKcSEk2JDUjHa5Li/wC6J/ESTvwPcWShuz99M/5GOrFQlDyyEN22/wBjAkrrS9jf3eNFdGGUpJ/dSLTfJ3fqKRBRruZGeLyiLwMbxeGepAxpT48E8lcM7pMk5R55O77i2brcxyZGUiLdboUfKItoxZVHky9X00F90kZPqXTeN/8AIl9RxXtFi+owfKF9Qg/AuugZerUo0keovMWetFCzp7EcifDOldxPA9XpKUYq2fqeDktGPH2Rku7x/qPDm+f9R481bDeW97Hkfotb7NCyP5FllzZ68vkfUyXk6Xqn6i3+f9mPqhdW/Bn6q4wb+P8Aknl7HbF1KZPNCGCLlu/9vIuqR0+WOWXanv4J9VGLqMrIfUuxcj+oSlwdT9Sk9rJdVN8EJTa7pM/ETe5HO2LLtbQnGXA1W7ZDIpOoyHGRUhTnEjnyIXVZUR63JZj6uMl92zH1WJ+T8Tj+T8Rj+Sc4T2ctiOSHCZex5HJCwsjh3RkxtzbR6cj05s9KdHoyPSn8CWRbUv4F6i4iv4Q8cn/cX8Hof+hLDKVXHgnjyTVOJ+Gn8HoZe3tpn4fJ/hMMMmKfd2eCfSZE+B9NX51Rlm4KokUu77iEXKSSRm+2NISTFa4JW2okI+TIrgzrccMfWPsVJqL/AJiv+RulZkyPuIZO5nrRj4MWRZOCOOK5Msd+5EJUvs2KXJ2lCaWxDI3FJGWbUGyp/IooqKNj7fgtfBd+Bto7mdzO5nczuIu3RLm1wdyb3Y5JPk71zYppvkyqWPbzRi75/nOqkou+SC71aMGKrkZlcqFFohG5GPFJy7paPijPklKUJS/wpfw6HujJBtkU4u2SafBin2SshOy/A36Uv0GuDbRsh5LbO6hbDaTtjyRXk9WJ6q+D1XeyPVkepI9SXydza5LfyKxIoooSEq3JOWR90nbO2uBxO1Hadh20dp2s3EzM5Jr4/wCyOWlRKUZcjxxfkUIrijb4RGUfB6kFyzNKOWl4Mc/Taxz48DbXJdjerZ3N8srRL2VqvehnUuShcSN1vrsPcUfl6tDSezI4O513ULZ09XpjzSbakuBMklONHT5/Ui4y/MhOvZTEeSiiiiiihIQi9LL04ZLf3oa1a0lG0J+PYkiapbHc0ZFOORZMZGXd7O5i50oboux6rThFlifslyUJVpWj9laUSjpOF7rkVrko7WRbQ5tj/Qh8kHvpZ5O1M8F+f6S0XsW6pa8e+qOdHvoxqxNrkelo/Y3sx/mFsbMaopiE9iyzn+mkUcCYpUXZXwP2Nplex6bEkmemhQR2PwhxaHGlZHYU2kKVje1ncxcC5aKoWte+yyy9ULTuGr4GmjwKqFwPVrf24pxjK5K0ZOuhJOCikuP/AMyLio9sfBf2tDlcUkLdaW2dwtjh2NU6LL0T9vj2X7LLExMssok6og3YxlCi5SUV5JfQOrgu6dJf/S/7Oo6f0J9jkn+wyTMsXOLinRDDFLiyGJR4FGtPBRZaEM5S0oWl+9ar2WXrWwkuCKtPStGO2dqPTPSFiVWzsURxGqKEvYttF5QtF7q0r3Xo9L0slB/mQl50ui70VDY2kbMsscqLHweNLNilovzIarTyXpWrL14FqnpfssUhNCaLQ2NncORZ3HcOWj0Wlat7j/KPfcQ2LcbeqeliYuBOxvTwXuedVuyxF6N0MUmXtY3sIbEPYsQuBtjI7iVoR//Z\" alt=\"Profile Picture\">\n",
              "            <div class=\"text-container\">\n",
              "                <h1>Washington State Electric Car Demographic</h1>\n",
              "                <p> :) </p>\n",
              "                <p>#soft_skills #sql #python #tableau</p>\n",
              "                &nbsp;\n",
              "                <p>Aria Alaei</p>\n",
              "                <div class=\"social-icons\">\n",
              "                    <a href=\"https://www.youtube.com/@AriaAlaei\" target=\"_blank\"><i class=\"fab fa-youtube\"></i></a>\n",
              "                    <a href=\"https://www.linkedin.com/in/ariaalaei/\" target=\"_blank\"><i class=\"fab fa-linkedin\"></i></a>\n",
              "                    <a href=\"mailto:info@ariaalaei.com\"><i class=\"fas fa-envelope\"></i></a>\n",
              "                </div>\n",
              "            </div>\n",
              "        </header>\n",
              "    </body>\n",
              "    </html>\n",
              "    "
            ]
          },
          "metadata": {}
        }
      ]
    },
    {
      "cell_type": "markdown",
      "source": [
        "\n",
        "\n",
        "```\n",
        "# This is formatted as code\n",
        "```\n",
        "\n",
        "\n"
      ],
      "metadata": {
        "id": "xy4inZ8V4y7V"
      }
    },
    {
      "cell_type": "code",
      "source": [],
      "metadata": {
        "id": "gKcsIYrZDPF9"
      },
      "execution_count": null,
      "outputs": []
    },
    {
      "cell_type": "markdown",
      "source": [
        "##Step 1. Kick-off meeting with management\n",
        "\n",
        "The state of Washington has approached data analysts to identify which cities and counties have the highest number of electric vehicles.\n",
        "\n",
        "Their goal is to determine how to allocate budgets effectively and provide targeted incentives to encourage further adoption of electric cars.\n",
        "\n",
        "Additionally, they aim to understand which car brands are the most popular across the state.\n",
        "\n",
        "To achieve this, they require interactive dashboards built in Tableau that clearly present the analysis results. They have provided raw data that needs to be cleaned and optimized to deliver accurate and actionable insights.\n",
        "\n",
        "\n"
      ],
      "metadata": {
        "id": "0DE8ZmwMpaKY"
      }
    },
    {
      "cell_type": "markdown",
      "source": [
        "## Step 2. Documenting a task during a meeting\n",
        "\n",
        "**Goal**:  \n",
        "Provide the state of Washington access to easy-to-understand dashboards that define the popularity of electric cars within different parts of the state.  \n",
        "\n",
        "**Visualisation** (bar, pie, column, etc.):  \n",
        "\n",
        "<figure>\n",
        "  <left>\n",
        "    <img src='https://drive.google.com/uc?export=view&id=18DWGuwanSmm80UZuxmEn_mOW2focK8CU' width='400'/>\n",
        "    <figcaption>Popular types of visuals</figcaption>\n",
        "  </left>\n",
        "</figure>\n",
        "\n",
        "\n"
      ],
      "metadata": {
        "id": "NPfw13UovDjJ"
      }
    },
    {
      "cell_type": "markdown",
      "source": [
        "#Hard skills"
      ],
      "metadata": {
        "id": "Cax7wbBR4_RB"
      }
    },
    {
      "cell_type": "code",
      "source": [
        "# Step 1: Install required libraries (and downgrade prettytable to a compatible version)\n",
        "!pip install gdown ipython-sql sqlalchemy prettytable==2.5.0\n",
        "\n",
        "# Step 2: Import libraries\n",
        "import pandas as pd\n",
        "import sqlite3\n",
        "import gdown\n",
        "\n",
        "# Step 3: Download the new file\n",
        "file_id = '1FobikZkaSZ74FEmlzPjHtLaNY9i_bPgd'  # Updated file ID for the new CSV\n",
        "download_url = f'https://drive.google.com/uc?id={file_id}'\n",
        "output_file = 'new_dataset.csv'  # Updated output file name\n",
        "gdown.download(download_url, output_file, quiet=False)\n",
        "\n",
        "# Step 4: Load the CSV file into a pandas DataFrame\n",
        "df = pd.read_csv(output_file)\n",
        "\n",
        "# Step 5: Save the DataFrame to SQLite\n",
        "database_filename = 'my_database.db'\n",
        "conn = sqlite3.connect(database_filename)  # Create SQLite connection\n",
        "df.to_sql('new_data', conn, if_exists='replace', index=False)  # Save DataFrame to the database with a new table name\n",
        "\n",
        "# Step 6: Load ipython-sql extension\n",
        "%load_ext sql\n",
        "\n",
        "# Step 7: Connect to the SQLite database\n",
        "%sql sqlite:///my_database.db\n",
        "\n",
        "# Ensure the default style is used (no explicit style change)\n",
        "%config SqlMagic.style = 'DEFAULT'\n",
        "\n",
        "\n"
      ],
      "metadata": {
        "id": "eFs78mYWliME",
        "colab": {
          "base_uri": "https://localhost:8080/"
        },
        "outputId": "65f8e69a-3117-4ebc-ca95-0d17fac30752"
      },
      "execution_count": null,
      "outputs": [
        {
          "output_type": "stream",
          "name": "stdout",
          "text": [
            "Requirement already satisfied: gdown in /usr/local/lib/python3.10/dist-packages (5.2.0)\n",
            "Requirement already satisfied: ipython-sql in /usr/local/lib/python3.10/dist-packages (0.5.0)\n",
            "Requirement already satisfied: sqlalchemy in /usr/local/lib/python3.10/dist-packages (2.0.36)\n",
            "Requirement already satisfied: prettytable==2.5.0 in /usr/local/lib/python3.10/dist-packages (2.5.0)\n",
            "Requirement already satisfied: wcwidth in /usr/local/lib/python3.10/dist-packages (from prettytable==2.5.0) (0.2.13)\n",
            "Requirement already satisfied: beautifulsoup4 in /usr/local/lib/python3.10/dist-packages (from gdown) (4.12.3)\n",
            "Requirement already satisfied: filelock in /usr/local/lib/python3.10/dist-packages (from gdown) (3.16.1)\n",
            "Requirement already satisfied: requests[socks] in /usr/local/lib/python3.10/dist-packages (from gdown) (2.32.3)\n",
            "Requirement already satisfied: tqdm in /usr/local/lib/python3.10/dist-packages (from gdown) (4.66.6)\n",
            "Requirement already satisfied: ipython in /usr/local/lib/python3.10/dist-packages (from ipython-sql) (7.34.0)\n",
            "Requirement already satisfied: sqlparse in /usr/local/lib/python3.10/dist-packages (from ipython-sql) (0.5.2)\n",
            "Requirement already satisfied: six in /usr/local/lib/python3.10/dist-packages (from ipython-sql) (1.16.0)\n",
            "Requirement already satisfied: ipython-genutils in /usr/local/lib/python3.10/dist-packages (from ipython-sql) (0.2.0)\n",
            "Requirement already satisfied: typing-extensions>=4.6.0 in /usr/local/lib/python3.10/dist-packages (from sqlalchemy) (4.12.2)\n",
            "Requirement already satisfied: greenlet!=0.4.17 in /usr/local/lib/python3.10/dist-packages (from sqlalchemy) (3.1.1)\n",
            "Requirement already satisfied: soupsieve>1.2 in /usr/local/lib/python3.10/dist-packages (from beautifulsoup4->gdown) (2.6)\n",
            "Requirement already satisfied: setuptools>=18.5 in /usr/local/lib/python3.10/dist-packages (from ipython->ipython-sql) (75.1.0)\n",
            "Requirement already satisfied: jedi>=0.16 in /usr/local/lib/python3.10/dist-packages (from ipython->ipython-sql) (0.19.2)\n",
            "Requirement already satisfied: decorator in /usr/local/lib/python3.10/dist-packages (from ipython->ipython-sql) (4.4.2)\n",
            "Requirement already satisfied: pickleshare in /usr/local/lib/python3.10/dist-packages (from ipython->ipython-sql) (0.7.5)\n",
            "Requirement already satisfied: traitlets>=4.2 in /usr/local/lib/python3.10/dist-packages (from ipython->ipython-sql) (5.7.1)\n",
            "Requirement already satisfied: prompt-toolkit!=3.0.0,!=3.0.1,<3.1.0,>=2.0.0 in /usr/local/lib/python3.10/dist-packages (from ipython->ipython-sql) (3.0.48)\n",
            "Requirement already satisfied: pygments in /usr/local/lib/python3.10/dist-packages (from ipython->ipython-sql) (2.18.0)\n",
            "Requirement already satisfied: backcall in /usr/local/lib/python3.10/dist-packages (from ipython->ipython-sql) (0.2.0)\n",
            "Requirement already satisfied: matplotlib-inline in /usr/local/lib/python3.10/dist-packages (from ipython->ipython-sql) (0.1.7)\n",
            "Requirement already satisfied: pexpect>4.3 in /usr/local/lib/python3.10/dist-packages (from ipython->ipython-sql) (4.9.0)\n",
            "Requirement already satisfied: charset-normalizer<4,>=2 in /usr/local/lib/python3.10/dist-packages (from requests[socks]->gdown) (3.4.0)\n",
            "Requirement already satisfied: idna<4,>=2.5 in /usr/local/lib/python3.10/dist-packages (from requests[socks]->gdown) (3.10)\n",
            "Requirement already satisfied: urllib3<3,>=1.21.1 in /usr/local/lib/python3.10/dist-packages (from requests[socks]->gdown) (2.2.3)\n",
            "Requirement already satisfied: certifi>=2017.4.17 in /usr/local/lib/python3.10/dist-packages (from requests[socks]->gdown) (2024.8.30)\n",
            "Requirement already satisfied: PySocks!=1.5.7,>=1.5.6 in /usr/local/lib/python3.10/dist-packages (from requests[socks]->gdown) (1.7.1)\n",
            "Requirement already satisfied: parso<0.9.0,>=0.8.4 in /usr/local/lib/python3.10/dist-packages (from jedi>=0.16->ipython->ipython-sql) (0.8.4)\n",
            "Requirement already satisfied: ptyprocess>=0.5 in /usr/local/lib/python3.10/dist-packages (from pexpect>4.3->ipython->ipython-sql) (0.7.0)\n"
          ]
        },
        {
          "output_type": "stream",
          "name": "stderr",
          "text": [
            "Downloading...\n",
            "From: https://drive.google.com/uc?id=1FobikZkaSZ74FEmlzPjHtLaNY9i_bPgd\n",
            "To: /content/new_dataset.csv\n",
            "100%|██████████| 52.4M/52.4M [00:00<00:00, 130MB/s]\n"
          ]
        },
        {
          "output_type": "stream",
          "name": "stdout",
          "text": [
            "The sql extension is already loaded. To reload it, use:\n",
            "  %reload_ext sql\n"
          ]
        }
      ]
    },
    {
      "cell_type": "code",
      "source": [
        "# @title Step 2. SQL — Query the data\n",
        "# Query the data to see if it works\n",
        "# Step 8: Query the database\n",
        "project_data = %sql SELECT County, City, Make FROM new_data\n",
        "%sql SELECT County, City, Make FROM new_data LIMIT 10\n",
        "\n"
      ],
      "metadata": {
        "id": "3-CzEfzM5LcX",
        "collapsed": true,
        "colab": {
          "base_uri": "https://localhost:8080/",
          "height": 325
        },
        "outputId": "f3916b54-0dd8-47c5-82e9-7235363647f9"
      },
      "execution_count": null,
      "outputs": [
        {
          "output_type": "stream",
          "name": "stdout",
          "text": [
            " * sqlite:///my_database.db\n",
            "Done.\n",
            " * sqlite:///my_database.db\n",
            "Done.\n"
          ]
        },
        {
          "output_type": "execute_result",
          "data": {
            "text/plain": [
              "[('King', 'Shoreline', 'NISSAN'),\n",
              " ('King', 'Seattle', 'TESLA'),\n",
              " ('Kitsap', 'Olalla', 'VOLKSWAGEN'),\n",
              " ('Thurston', 'Olympia', 'TOYOTA'),\n",
              " ('Thurston', 'Olympia', 'FORD'),\n",
              " ('Snohomish', 'Bothell', 'TESLA'),\n",
              " ('Snohomish', 'Bothell', 'TESLA'),\n",
              " ('Kitsap', 'Poulsbo', 'JEEP'),\n",
              " ('Thurston', 'Rochester', 'BMW'),\n",
              " ('King', 'Burien', 'NISSAN')]"
            ],
            "text/html": [
              "<table>\n",
              "    <thead>\n",
              "        <tr>\n",
              "            <th>County</th>\n",
              "            <th>City</th>\n",
              "            <th>Make</th>\n",
              "        </tr>\n",
              "    </thead>\n",
              "    <tbody>\n",
              "        <tr>\n",
              "            <td>King</td>\n",
              "            <td>Shoreline</td>\n",
              "            <td>NISSAN</td>\n",
              "        </tr>\n",
              "        <tr>\n",
              "            <td>King</td>\n",
              "            <td>Seattle</td>\n",
              "            <td>TESLA</td>\n",
              "        </tr>\n",
              "        <tr>\n",
              "            <td>Kitsap</td>\n",
              "            <td>Olalla</td>\n",
              "            <td>VOLKSWAGEN</td>\n",
              "        </tr>\n",
              "        <tr>\n",
              "            <td>Thurston</td>\n",
              "            <td>Olympia</td>\n",
              "            <td>TOYOTA</td>\n",
              "        </tr>\n",
              "        <tr>\n",
              "            <td>Thurston</td>\n",
              "            <td>Olympia</td>\n",
              "            <td>FORD</td>\n",
              "        </tr>\n",
              "        <tr>\n",
              "            <td>Snohomish</td>\n",
              "            <td>Bothell</td>\n",
              "            <td>TESLA</td>\n",
              "        </tr>\n",
              "        <tr>\n",
              "            <td>Snohomish</td>\n",
              "            <td>Bothell</td>\n",
              "            <td>TESLA</td>\n",
              "        </tr>\n",
              "        <tr>\n",
              "            <td>Kitsap</td>\n",
              "            <td>Poulsbo</td>\n",
              "            <td>JEEP</td>\n",
              "        </tr>\n",
              "        <tr>\n",
              "            <td>Thurston</td>\n",
              "            <td>Rochester</td>\n",
              "            <td>BMW</td>\n",
              "        </tr>\n",
              "        <tr>\n",
              "            <td>King</td>\n",
              "            <td>Burien</td>\n",
              "            <td>NISSAN</td>\n",
              "        </tr>\n",
              "    </tbody>\n",
              "</table>"
            ]
          },
          "metadata": {},
          "execution_count": 5
        }
      ]
    },
    {
      "cell_type": "markdown",
      "source": [
        "*Data Description*\n",
        "<table>\n",
        "  <thead>\n",
        "    <tr>\n",
        "      <th><b>Variable</b></th>\n",
        "      <th><b>Definition</b></th>\n",
        "      <th><b>Key</b></th>\n",
        "    </tr>\n",
        "  </thead>\n",
        "  <tbody>\n",
        "    <tr>\n",
        "      <td><b>County</b></td>\n",
        "      <td>The county where the vehicle is registered.</td>\n",
        "      <td>N/A</td>\n",
        "    </tr>\n",
        "    <tr>\n",
        "      <td><b>City</b></td>\n",
        "      <td>The city where the vehicle is registered.</td>\n",
        "      <td>N/A</td>\n",
        "    </tr>\n",
        "    <tr>\n",
        "      <td><b>Make</b></td>\n",
        "      <td>The manufacturer of the vehicle.</td>\n",
        "      <td>E.g., Tesla, Nissan, Ford</td>\n",
        "    </tr>\n",
        "  </tbody>\n",
        "</table>\n",
        "\n"
      ],
      "metadata": {
        "id": "XLH1nNJZkTYY"
      }
    },
    {
      "cell_type": "code",
      "source": [
        "# @title Step 3. Python\n",
        "\n",
        "# Get the data into the Python environment\n",
        "# Assuming project_data is the result of the SQL query and is in tabular format (list of dictionaries)\n",
        "\n",
        "# Convert project_data to pandas DataFrame\n",
        "df = pd.DataFrame(project_data)\n",
        "\n",
        "# Display the DataFrame\n",
        "print(df.head(10))\n",
        "\n",
        "# 3. General information about the DataFrame\n",
        "print(\"Information about the DataFrame:\")\n",
        "print(df.info(), \"\\n\")\n",
        "\n",
        "# 4. Basic statistics for numeric columns\n",
        "print(\"Statistical summary of numeric columns:\")\n",
        "print(df.describe(), \"\\n\")\n",
        "\n",
        "# 5. Check for missing values\n",
        "print(\"Count of missing values in each column:\")\n",
        "print(df.isnull().sum(), \"\\n\")\n",
        "\n",
        "# 6. Data types of each column\n",
        "print(\"Data types of columns:\")\n",
        "print(df.dtypes, \"\\n\")\n",
        "\n",
        "\n",
        "\n",
        "\n"
      ],
      "metadata": {
        "id": "YYxg_USbk-Sl",
        "colab": {
          "base_uri": "https://localhost:8080/"
        },
        "outputId": "54fa1c37-347e-4afc-e386-bfa532bc2fba"
      },
      "execution_count": null,
      "outputs": [
        {
          "output_type": "stream",
          "name": "stdout",
          "text": [
            "      County       City        Make\n",
            "0       King  Shoreline      NISSAN\n",
            "1       King    Seattle       TESLA\n",
            "2     Kitsap     Olalla  VOLKSWAGEN\n",
            "3   Thurston    Olympia      TOYOTA\n",
            "4   Thurston    Olympia        FORD\n",
            "5  Snohomish    Bothell       TESLA\n",
            "6  Snohomish    Bothell       TESLA\n",
            "7     Kitsap    Poulsbo        JEEP\n",
            "8   Thurston  Rochester         BMW\n",
            "9       King     Burien      NISSAN\n",
            "Information about the DataFrame:\n",
            "<class 'pandas.core.frame.DataFrame'>\n",
            "RangeIndex: 216772 entries, 0 to 216771\n",
            "Data columns (total 3 columns):\n",
            " #   Column  Non-Null Count   Dtype \n",
            "---  ------  --------------   ----- \n",
            " 0   County  216767 non-null  object\n",
            " 1   City    216767 non-null  object\n",
            " 2   Make    216772 non-null  object\n",
            "dtypes: object(3)\n",
            "memory usage: 5.0+ MB\n",
            "None \n",
            "\n",
            "Statistical summary of numeric columns:\n",
            "        County     City    Make\n",
            "count   216767   216767  216772\n",
            "unique     205      762      44\n",
            "top       King  Seattle   TESLA\n",
            "freq    110164    34754   93931 \n",
            "\n",
            "Count of missing values in each column:\n",
            "County    5\n",
            "City      5\n",
            "Make      0\n",
            "dtype: int64 \n",
            "\n",
            "Data types of columns:\n",
            "County    object\n",
            "City      object\n",
            "Make      object\n",
            "dtype: object \n",
            "\n"
          ]
        }
      ]
    },
    {
      "cell_type": "code",
      "source": [
        "# 1. Count of each make of cars\n",
        "if 'Make' in df.columns:\n",
        "    # Ensure 'Make' column is normalized to uppercase\n",
        "    df['Make'] = df['Make'].str.upper()\n",
        "    make_counts = df['Make'].value_counts()\n",
        "    make_count_dict = make_counts.to_dict()  # Store in a dictionary for lookup\n",
        "    print(\"Count of each make of cars:\")\n",
        "    print(make_counts, \"\\n\")\n",
        "else:\n",
        "    print(\"'Make' column is not in the dataset.\\n\")\n",
        "\n",
        "# Get Tesla count from make_count_dict\n",
        "tesla_count = make_count_dict.get('TESLA', 0)  # Correct casing\n",
        "print(f\"Tesla cars: {tesla_count}\")\n",
        "\n",
        "# 2. Count of electric cars in each city\n",
        "if 'City' in df.columns and 'Make' in df.columns:\n",
        "    city_counts = df.groupby('City')['Make'].count()\n",
        "    city_count_dict = city_counts.to_dict()  # Store in a dictionary for lookup\n",
        "    print(\"Count of electric cars in each city:\")\n",
        "    print(city_counts, \"\\n\")\n",
        "else:\n",
        "    print(\"'City' or 'Make' column is not in the dataset.\\n\")\n",
        "\n",
        "# Get count for Seattle\n",
        "seattle_count = city_count_dict.get('Seattle'.upper(), 0)  # Normalize lookup\n",
        "print(f\"Electric cars in Seattle: {seattle_count}\")\n",
        "\n",
        "# 3. Count of electric cars in each county\n",
        "if 'County' in df.columns and 'Make' in df.columns:\n",
        "    county_counts = df.groupby('County')['Make'].count()\n",
        "    county_count_dict = county_counts.to_dict()  # Store in a dictionary for lookup\n",
        "    print(\"Count of electric cars in each county:\")\n",
        "    print(county_counts, \"\\n\")\n",
        "else:\n",
        "    print(\"'County' or 'Make' column is not in the dataset.\\n\")\n",
        "\n",
        "# Get count for King County\n",
        "king_count = county_count_dict.get('King'.upper(), 0)  # Normalize lookup\n",
        "print(f\"Electric cars in King County: {king_count}\")\n"
      ],
      "metadata": {
        "colab": {
          "base_uri": "https://localhost:8080/"
        },
        "id": "M5iYXvaJ3yud",
        "outputId": "25a9f019-53ae-45d7-c2d9-5dbf0591cf95"
      },
      "execution_count": null,
      "outputs": [
        {
          "output_type": "stream",
          "name": "stdout",
          "text": [
            "Count of each make of cars:\n",
            "Make\n",
            "TESLA                   93931\n",
            "CHEVROLET               15864\n",
            "NISSAN                  15011\n",
            "FORD                    11486\n",
            "KIA                     10090\n",
            "BMW                      8820\n",
            "TOYOTA                   8543\n",
            "HYUNDAI                  6304\n",
            "RIVIAN                   6113\n",
            "VOLKSWAGEN               5826\n",
            "JEEP                     5636\n",
            "VOLVO                    5292\n",
            "AUDI                     4054\n",
            "CHRYSLER                 3797\n",
            "MERCEDES-BENZ            2057\n",
            "SUBARU                   1611\n",
            "HONDA                    1561\n",
            "PORSCHE                  1305\n",
            "POLESTAR                 1175\n",
            "MINI                     1047\n",
            "MITSUBISHI               1045\n",
            "CADILLAC                  919\n",
            "LEXUS                     835\n",
            "MAZDA                     822\n",
            "FIAT                      813\n",
            "DODGE                     701\n",
            "LINCOLN                   320\n",
            "LUCID                     317\n",
            "GENESIS                   297\n",
            "SMART                     244\n",
            "JAGUAR                    237\n",
            "GMC                       209\n",
            "FISKER                    186\n",
            "ACURA                     100\n",
            "ALFA ROMEO                 90\n",
            "LAND ROVER                 90\n",
            "TH!NK                       5\n",
            "BENTLEY                     5\n",
            "AZURE DYNAMICS              4\n",
            "ROLLS-ROYCE                 3\n",
            "WHEEGO ELECTRIC CARS        3\n",
            "RAM                         2\n",
            "VINFAST                     1\n",
            "LAMBORGHINI                 1\n",
            "Name: count, dtype: int64 \n",
            "\n",
            "Tesla cars: 93931\n",
            "Count of electric cars in each city:\n",
            "City\n",
            "Aberdeen                   200\n",
            "Aberdeen Proving Ground      1\n",
            "Acme                        10\n",
            "Addy                         4\n",
            "Airway Heights              45\n",
            "                          ... \n",
            "Yakima                     873\n",
            "Yarrow Point               153\n",
            "Yelm                       371\n",
            "Yorktown                     1\n",
            "Zillah                      44\n",
            "Name: Make, Length: 762, dtype: int64 \n",
            "\n",
            "Electric cars in Seattle: 0\n",
            "Count of electric cars in each county:\n",
            "County\n",
            "Ada              2\n",
            "Adams           72\n",
            "Alameda          5\n",
            "Albemarle        2\n",
            "Alexandria       3\n",
            "              ... \n",
            "Williamson       1\n",
            "Yakima        1340\n",
            "Yolo             2\n",
            "York             1\n",
            "Yuba             1\n",
            "Name: Make, Length: 205, dtype: int64 \n",
            "\n",
            "Electric cars in King County: 0\n"
          ]
        }
      ]
    },
    {
      "cell_type": "code",
      "source": [
        "# Creating a CSV file for car type\n",
        "df_car_type = pd.DataFrame(columns=['Make', 'Count'])\n",
        "\n",
        "# Load your dataset (replace 'new_dataset.csv' with your actual file name)\n",
        "df_car_data = pd.read_csv('new_dataset.csv')  # Renamed from 'df' to 'df_car_data'\n",
        "\n",
        "# Normalize the 'Make' column to ensure consistency\n",
        "df_car_data['Make'] = df_car_data['Make'].str.upper()\n",
        "\n",
        "# Group by the 'Make' column and count the number of cars for each company\n",
        "car_make_counts = df_car_data['Make'].value_counts().reset_index()\n",
        "\n",
        "# Rename columns for clarity\n",
        "car_make_counts.columns = ['Car Company (Make)', 'Count of Cars']\n",
        "\n",
        "# Save the cleaned data to a new CSV file for Tableau\n",
        "output_file = 'car_make_counts.csv'\n",
        "car_make_counts.to_csv(output_file, index=False)\n",
        "\n",
        "print(f\"Data prepared and saved to {output_file}. Here is a preview:\")\n",
        "print(car_make_counts.head())\n",
        "\n",
        "\n",
        "\n"
      ],
      "metadata": {
        "colab": {
          "base_uri": "https://localhost:8080/"
        },
        "id": "xu_78fSaYrVp",
        "outputId": "d21b794e-ffe0-46e5-c39d-100b1df496ab"
      },
      "execution_count": null,
      "outputs": [
        {
          "output_type": "stream",
          "name": "stdout",
          "text": [
            "Data prepared and saved to car_make_counts.csv. Here is a preview:\n",
            "  Car Company (Make)  Count of Cars\n",
            "0              TESLA          93931\n",
            "1          CHEVROLET          15864\n",
            "2             NISSAN          15011\n",
            "3               FORD          11486\n",
            "4                KIA          10090\n"
          ]
        }
      ]
    },
    {
      "cell_type": "code",
      "source": [
        "# Creating a CSV file for city and number of cars\n",
        "df_city_data = pd.DataFrame(columns=['City', 'Count'])  # Initialize DataFrame for clarity\n",
        "\n",
        "# Load your dataset (replace 'new_dataset.csv' with your actual file name)\n",
        "df_city_data = pd.read_csv('new_dataset.csv')  # Renamed from 'df' to 'df_city_data'\n",
        "\n",
        "# Normalize the 'City' column to ensure consistency\n",
        "df_city_data['City'] = df_city_data['City'].str.upper()\n",
        "\n",
        "# Group by the 'City' column and count the number of cars for each city\n",
        "city_car_counts = df_city_data['City'].value_counts().reset_index()\n",
        "\n",
        "# Rename columns for clarity\n",
        "city_car_counts.columns = ['City', 'Count of Cars']\n",
        "\n",
        "# Save the cleaned data to a new CSV file for Tableau\n",
        "output_file_city = 'city_car_counts.csv'\n",
        "city_car_counts.to_csv(output_file_city, index=False)\n",
        "\n",
        "print(f\"Data prepared and saved to {output_file_city}. Here is a preview:\")\n",
        "print(city_car_counts.head())\n",
        "\n",
        "# Save the city data to an XLSX file\n",
        "output_file_city = 'city_car_counts.xlsx'\n",
        "city_car_counts.to_excel(output_file_city, index=False)\n",
        "\n",
        "print(f\"City data saved to {output_file_city}. Here is a preview:\")\n",
        "print(city_car_counts.head())\n",
        "\n"
      ],
      "metadata": {
        "colab": {
          "base_uri": "https://localhost:8080/"
        },
        "id": "O49JmWw5bk5H",
        "outputId": "40397d55-f056-4593-9f30-c61a1c59e1c6"
      },
      "execution_count": null,
      "outputs": [
        {
          "output_type": "stream",
          "name": "stdout",
          "text": [
            "Data prepared and saved to city_car_counts.csv. Here is a preview:\n",
            "        City  Count of Cars\n",
            "0    SEATTLE          34754\n",
            "1   BELLEVUE          10726\n",
            "2  VANCOUVER           7726\n",
            "3    REDMOND           7655\n",
            "4    BOTHELL           7061\n",
            "City data saved to city_car_counts.xlsx. Here is a preview:\n",
            "        City  Count of Cars\n",
            "0    SEATTLE          34754\n",
            "1   BELLEVUE          10726\n",
            "2  VANCOUVER           7726\n",
            "3    REDMOND           7655\n",
            "4    BOTHELL           7061\n"
          ]
        }
      ]
    },
    {
      "cell_type": "code",
      "source": [
        "# Creating a CSV file for county and number of cars\n",
        "df_county_data = pd.DataFrame(columns=['County', 'Count'])  # Initialize DataFrame for clarity\n",
        "\n",
        "# Load your dataset (replace 'new_dataset.csv' with your actual file name)\n",
        "df_county_data = pd.read_csv('new_dataset.csv')  # Renamed from 'df' to 'df_county_data'\n",
        "\n",
        "# Normalize the 'County' column to ensure consistency\n",
        "df_county_data['County'] = df_county_data['County'].str.upper()\n",
        "\n",
        "# Group by the 'County' column and count the number of cars for each county\n",
        "county_car_counts = df_county_data['County'].value_counts().reset_index()\n",
        "\n",
        "# Rename columns for clarity\n",
        "county_car_counts.columns = ['County', 'Count of Cars']\n",
        "\n",
        "# Save the cleaned data to a new CSV file for Tableau\n",
        "output_file_county = 'county_car_counts.csv'\n",
        "county_car_counts.to_csv(output_file_county, index=False)\n",
        "\n",
        "print(f\"Data prepared and saved to {output_file_county}. Here is a preview:\")\n",
        "print(county_car_counts.head(14))\n",
        "\n",
        "# Save the county data to an XLSX file\n",
        "output_file_county = 'county_car_counts.xlsx'\n",
        "county_car_counts.to_excel(output_file_county, index=False)\n",
        "\n",
        "print(f\"County data saved to {output_file_county}. Here is a preview:\")\n",
        "print(county_car_counts.head())\n",
        "\n"
      ],
      "metadata": {
        "colab": {
          "base_uri": "https://localhost:8080/"
        },
        "id": "5aPHtedjbl-d",
        "outputId": "64e0d97d-b3bd-4641-a3ba-6170ef1bd114"
      },
      "execution_count": null,
      "outputs": [
        {
          "output_type": "stream",
          "name": "stdout",
          "text": [
            "Data prepared and saved to county_car_counts.csv. Here is a preview:\n",
            "       County  Count of Cars\n",
            "0        KING         110164\n",
            "1   SNOHOMISH          26200\n",
            "2      PIERCE          17397\n",
            "3       CLARK          12938\n",
            "4    THURSTON           7938\n",
            "5      KITSAP           7215\n",
            "6     SPOKANE           5999\n",
            "7     WHATCOM           5244\n",
            "8      BENTON           2726\n",
            "9      SKAGIT           2447\n",
            "10     ISLAND           2302\n",
            "11     YAKIMA           1340\n",
            "12     CHELAN           1315\n",
            "13    CLALLAM           1297\n",
            "County data saved to county_car_counts.xlsx. Here is a preview:\n",
            "      County  Count of Cars\n",
            "0       KING         110164\n",
            "1  SNOHOMISH          26200\n",
            "2     PIERCE          17397\n",
            "3      CLARK          12938\n",
            "4   THURSTON           7938\n"
          ]
        }
      ]
    },
    {
      "cell_type": "code",
      "source": [
        "#@title Tableau Dashboard\n",
        "from IPython.display import HTML\n",
        "\n",
        "HTML(\"\"\"\n",
        "<div class='tableauPlaceholder' id='viz1733590676957' style='position: relative'><noscript><a href='#'><img alt='Car_Per_City ' src='https:&#47;&#47;public.tableau.com&#47;static&#47;images&#47;Ca&#47;Car_Per_City&#47;Car_Per_City&#47;1_rss.png' style='border: none' /></a></noscript><object class='tableauViz'  style='display:none;'><param name='host_url' value='https%3A%2F%2Fpublic.tableau.com%2F' /> <param name='embed_code_version' value='3' /> <param name='site_root' value='' /><param name='name' value='Car_Per_City&#47;Car_Per_City' /><param name='tabs' value='no' /><param name='toolbar' value='yes' /><param name='static_image' value='https:&#47;&#47;public.tableau.com&#47;static&#47;images&#47;Ca&#47;Car_Per_City&#47;Car_Per_City&#47;1.png' /> <param name='animate_transition' value='yes' /><param name='display_static_image' value='yes' /><param name='display_spinner' value='yes' /><param name='display_overlay' value='yes' /><param name='display_count' value='yes' /><param name='language' value='en-US' /></object></div>                <script type='text/javascript'>                    var divElement = document.getElementById('viz1733590676957');                    var vizElement = divElement.getElementsByTagName('object')[0];                    vizElement.style.width='100%';vizElement.style.height=(divElement.offsetWidth*0.75)+'px';                    var scriptElement = document.createElement('script');                    scriptElement.src = 'https://public.tableau.com/javascripts/api/viz_v1.js';                    vizElement.parentNode.insertBefore(scriptElement, vizElement);                </script>\n",
        "\"\"\")\n",
        "\n"
      ],
      "metadata": {
        "id": "ENH3nc7y6efx",
        "colab": {
          "base_uri": "https://localhost:8080/",
          "height": 774
        },
        "collapsed": true,
        "outputId": "b75e3610-9dbc-447a-e350-ca30c5dc8554"
      },
      "execution_count": null,
      "outputs": [
        {
          "output_type": "execute_result",
          "data": {
            "text/plain": [
              "<IPython.core.display.HTML object>"
            ],
            "text/html": [
              "\n",
              "<div class='tableauPlaceholder' id='viz1733590676957' style='position: relative'><noscript><a href='#'><img alt='Car_Per_City ' src='https:&#47;&#47;public.tableau.com&#47;static&#47;images&#47;Ca&#47;Car_Per_City&#47;Car_Per_City&#47;1_rss.png' style='border: none' /></a></noscript><object class='tableauViz'  style='display:none;'><param name='host_url' value='https%3A%2F%2Fpublic.tableau.com%2F' /> <param name='embed_code_version' value='3' /> <param name='site_root' value='' /><param name='name' value='Car_Per_City&#47;Car_Per_City' /><param name='tabs' value='no' /><param name='toolbar' value='yes' /><param name='static_image' value='https:&#47;&#47;public.tableau.com&#47;static&#47;images&#47;Ca&#47;Car_Per_City&#47;Car_Per_City&#47;1.png' /> <param name='animate_transition' value='yes' /><param name='display_static_image' value='yes' /><param name='display_spinner' value='yes' /><param name='display_overlay' value='yes' /><param name='display_count' value='yes' /><param name='language' value='en-US' /></object></div>                <script type='text/javascript'>                    var divElement = document.getElementById('viz1733590676957');                    var vizElement = divElement.getElementsByTagName('object')[0];                    vizElement.style.width='100%';vizElement.style.height=(divElement.offsetWidth*0.75)+'px';                    var scriptElement = document.createElement('script');                    scriptElement.src = 'https://public.tableau.com/javascripts/api/viz_v1.js';                    vizElement.parentNode.insertBefore(scriptElement, vizElement);                </script>\n"
            ]
          },
          "metadata": {},
          "execution_count": 11
        }
      ]
    },
    {
      "cell_type": "code",
      "source": [
        "#@title Tableau Dashboard\n",
        "from IPython.display import HTML\n",
        "\n",
        "HTML(\"\"\"\n",
        "<div class='tableauPlaceholder' id='viz1733590774801' style='position: relative'><noscript><a href='#'><img alt='Car_Per_County ' src='https:&#47;&#47;public.tableau.com&#47;static&#47;images&#47;Ca&#47;Car_Per_County&#47;Car_Per_County&#47;1_rss.png' style='border: none' /></a></noscript><object class='tableauViz'  style='display:none;'><param name='host_url' value='https%3A%2F%2Fpublic.tableau.com%2F' /> <param name='embed_code_version' value='3' /> <param name='site_root' value='' /><param name='name' value='Car_Per_County&#47;Car_Per_County' /><param name='tabs' value='no' /><param name='toolbar' value='yes' /><param name='static_image' value='https:&#47;&#47;public.tableau.com&#47;static&#47;images&#47;Ca&#47;Car_Per_County&#47;Car_Per_County&#47;1.png' /> <param name='animate_transition' value='yes' /><param name='display_static_image' value='yes' /><param name='display_spinner' value='yes' /><param name='display_overlay' value='yes' /><param name='display_count' value='yes' /><param name='language' value='en-US' /></object></div>                <script type='text/javascript'>                    var divElement = document.getElementById('viz1733590774801');                    var vizElement = divElement.getElementsByTagName('object')[0];                    vizElement.style.width='100%';vizElement.style.height=(divElement.offsetWidth*0.75)+'px';                    var scriptElement = document.createElement('script');                    scriptElement.src = 'https://public.tableau.com/javascripts/api/viz_v1.js';                    vizElement.parentNode.insertBefore(scriptElement, vizElement);                </script>\n",
        "\"\"\")\n"
      ],
      "metadata": {
        "colab": {
          "base_uri": "https://localhost:8080/",
          "height": 774
        },
        "id": "jeLEOE5kkVrb",
        "outputId": "160543ba-d5ce-4361-f91d-f904e38649fa"
      },
      "execution_count": null,
      "outputs": [
        {
          "output_type": "execute_result",
          "data": {
            "text/plain": [
              "<IPython.core.display.HTML object>"
            ],
            "text/html": [
              "\n",
              "<div class='tableauPlaceholder' id='viz1733590774801' style='position: relative'><noscript><a href='#'><img alt='Car_Per_County ' src='https:&#47;&#47;public.tableau.com&#47;static&#47;images&#47;Ca&#47;Car_Per_County&#47;Car_Per_County&#47;1_rss.png' style='border: none' /></a></noscript><object class='tableauViz'  style='display:none;'><param name='host_url' value='https%3A%2F%2Fpublic.tableau.com%2F' /> <param name='embed_code_version' value='3' /> <param name='site_root' value='' /><param name='name' value='Car_Per_County&#47;Car_Per_County' /><param name='tabs' value='no' /><param name='toolbar' value='yes' /><param name='static_image' value='https:&#47;&#47;public.tableau.com&#47;static&#47;images&#47;Ca&#47;Car_Per_County&#47;Car_Per_County&#47;1.png' /> <param name='animate_transition' value='yes' /><param name='display_static_image' value='yes' /><param name='display_spinner' value='yes' /><param name='display_overlay' value='yes' /><param name='display_count' value='yes' /><param name='language' value='en-US' /></object></div>                <script type='text/javascript'>                    var divElement = document.getElementById('viz1733590774801');                    var vizElement = divElement.getElementsByTagName('object')[0];                    vizElement.style.width='100%';vizElement.style.height=(divElement.offsetWidth*0.75)+'px';                    var scriptElement = document.createElement('script');                    scriptElement.src = 'https://public.tableau.com/javascripts/api/viz_v1.js';                    vizElement.parentNode.insertBefore(scriptElement, vizElement);                </script>\n"
            ]
          },
          "metadata": {},
          "execution_count": 12
        }
      ]
    },
    {
      "cell_type": "code",
      "source": [
        "#@title Tableau Dashboard\n",
        "from IPython.display import HTML\n",
        "\n",
        "HTML(\"\"\"\n",
        "<div class='tableauPlaceholder' id='viz1733590803298' style='position: relative'><noscript><a href='#'><img alt='CarCompanyType ' src='https:&#47;&#47;public.tableau.com&#47;static&#47;images&#47;Ca&#47;CarCompanyType&#47;CarCompanyType&#47;1_rss.png' style='border: none' /></a></noscript><object class='tableauViz'  style='display:none;'><param name='host_url' value='https%3A%2F%2Fpublic.tableau.com%2F' /> <param name='embed_code_version' value='3' /> <param name='site_root' value='' /><param name='name' value='CarCompanyType&#47;CarCompanyType' /><param name='tabs' value='no' /><param name='toolbar' value='yes' /><param name='static_image' value='https:&#47;&#47;public.tableau.com&#47;static&#47;images&#47;Ca&#47;CarCompanyType&#47;CarCompanyType&#47;1.png' /> <param name='animate_transition' value='yes' /><param name='display_static_image' value='yes' /><param name='display_spinner' value='yes' /><param name='display_overlay' value='yes' /><param name='display_count' value='yes' /><param name='language' value='en-US' /></object></div>                <script type='text/javascript'>                    var divElement = document.getElementById('viz1733590803298');                    var vizElement = divElement.getElementsByTagName('object')[0];                    vizElement.style.width='100%';vizElement.style.height=(divElement.offsetWidth*0.75)+'px';                    var scriptElement = document.createElement('script');                    scriptElement.src = 'https://public.tableau.com/javascripts/api/viz_v1.js';                    vizElement.parentNode.insertBefore(scriptElement, vizElement);                </script>\n",
        "\"\"\")"
      ],
      "metadata": {
        "colab": {
          "base_uri": "https://localhost:8080/",
          "height": 773
        },
        "id": "O0mKz7mPkZzw",
        "outputId": "de213911-6f4d-486a-f1d1-4c286fb99111"
      },
      "execution_count": null,
      "outputs": [
        {
          "output_type": "execute_result",
          "data": {
            "text/plain": [
              "<IPython.core.display.HTML object>"
            ],
            "text/html": [
              "\n",
              "<div class='tableauPlaceholder' id='viz1733590803298' style='position: relative'><noscript><a href='#'><img alt='CarCompanyType ' src='https:&#47;&#47;public.tableau.com&#47;static&#47;images&#47;Ca&#47;CarCompanyType&#47;CarCompanyType&#47;1_rss.png' style='border: none' /></a></noscript><object class='tableauViz'  style='display:none;'><param name='host_url' value='https%3A%2F%2Fpublic.tableau.com%2F' /> <param name='embed_code_version' value='3' /> <param name='site_root' value='' /><param name='name' value='CarCompanyType&#47;CarCompanyType' /><param name='tabs' value='no' /><param name='toolbar' value='yes' /><param name='static_image' value='https:&#47;&#47;public.tableau.com&#47;static&#47;images&#47;Ca&#47;CarCompanyType&#47;CarCompanyType&#47;1.png' /> <param name='animate_transition' value='yes' /><param name='display_static_image' value='yes' /><param name='display_spinner' value='yes' /><param name='display_overlay' value='yes' /><param name='display_count' value='yes' /><param name='language' value='en-US' /></object></div>                <script type='text/javascript'>                    var divElement = document.getElementById('viz1733590803298');                    var vizElement = divElement.getElementsByTagName('object')[0];                    vizElement.style.width='100%';vizElement.style.height=(divElement.offsetWidth*0.75)+'px';                    var scriptElement = document.createElement('script');                    scriptElement.src = 'https://public.tableau.com/javascripts/api/viz_v1.js';                    vizElement.parentNode.insertBefore(scriptElement, vizElement);                </script>\n"
            ]
          },
          "metadata": {},
          "execution_count": 14
        }
      ]
    },
    {
      "cell_type": "markdown",
      "source": [
        "[Link Tableau]()\n",
        "\n",
        "[Link PBI]()\n",
        "\n",
        "**Goal**:\n",
        "\n",
        "**Assessment**:"
      ],
      "metadata": {
        "id": "ZbyPQWDN97Tw"
      }
    }
  ]
}